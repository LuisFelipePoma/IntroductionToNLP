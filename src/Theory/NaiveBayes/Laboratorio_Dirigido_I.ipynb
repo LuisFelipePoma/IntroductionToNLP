{
  "cells": [
    {
      "cell_type": "markdown",
      "id": "27854a96-ff8b-4574-a853-123793fb2219",
      "metadata": {
        "id": "27854a96-ff8b-4574-a853-123793fb2219"
      },
      "source": [
        "# Clasificación de sentimientos: Enfoque de Aprendizaje de Máquina\n",
        "\n",
        "En este notebook, vas a usar [scikit-learn](https://scikit-learn.org/), una de las librerías mas importantes para construcción de modelos de aprendizaje de máquina, para la construcción de un clasificador de sentimientos. El objetivo es identificar si una crítica de una película es positiva o negativa.  Este notebook esta dividido en tres secciones que representan las etapas típicas en la construcción de soluciones de procesamiento de lenguaje natural.\n",
        "\n",
        "- *Procesamiento del texto*: Vamos a entender el dataset y procesar el texto.\n",
        "- *Estrategia de representación*: Construiremos una representación básica de bolsa de palabras utilizando la funcionalidad CountVectorizer de sklearn.\n",
        "- *Modelamiento y evaluación*: Entrenaremos un clasificador Naive Bayes y evaluaremos su desempeño. Tambien utilizaremos el modelo construido para predecir la polaridad en texto construido por nosotros."
      ]
    },
    {
      "cell_type": "code",
      "execution_count": 1,
      "id": "primary-wiring",
      "metadata": {
        "id": "primary-wiring"
      },
      "outputs": [
        {
          "name": "stderr",
          "output_type": "stream",
          "text": [
            "[nltk_data] Downloading package stopwords to\n",
            "[nltk_data]     C:\\Users\\pms_l\\AppData\\Roaming\\nltk_data...\n",
            "[nltk_data]   Package stopwords is already up-to-date!\n"
          ]
        },
        {
          "data": {
            "text/plain": [
              "True"
            ]
          },
          "execution_count": 1,
          "metadata": {},
          "output_type": "execute_result"
        }
      ],
      "source": [
        "### Lo primero que vamos a realizar es la importación de las librerías necesarias para la construcción de nuestro clasificador\n",
        "\n",
        "## Scikit-learn\n",
        "from sklearn.feature_extraction.text import CountVectorizer\n",
        "from sklearn.model_selection import train_test_split\n",
        "from sklearn.naive_bayes import MultinomialNB\n",
        "from sklearn.metrics import classification_report, confusion_matrix, accuracy_score, ConfusionMatrixDisplay\n",
        "\n",
        "## Librerias para graficación\n",
        "import matplotlib.pyplot as plt\n",
        "import seaborn as sns\n",
        "\n",
        "# NLTK es una librería particular para PLN. Tiene muchas funcionalidades entre ellas stemming y lista de palabras de parada.\n",
        "import nltk\n",
        "from nltk.corpus import stopwords\n",
        "import re\n",
        "import pandas as pd\n",
        "\n",
        "\n",
        "stemmer = nltk.stem.SnowballStemmer('spanish') # Vamos a utlizar el Snowball Stemmer para realizar stemming (nos permite llevar las palabras a una forma estandar).\n",
        "nltk.download('stopwords') # Lista de palabras de parada en español."
      ]
    },
    {
      "cell_type": "code",
      "execution_count": null,
      "id": "99d64584",
      "metadata": {},
      "outputs": [],
      "source": []
    },
    {
      "cell_type": "markdown",
      "id": "0f05367d-ba85-45fe-937e-4b92032e59d8",
      "metadata": {
        "id": "0f05367d-ba85-45fe-937e-4b92032e59d8"
      },
      "source": [
        "## 1. Procesamiento del texto"
      ]
    },
    {
      "cell_type": "markdown",
      "id": "53ddea59-fd79-4cef-9b01-1fd1ec9a5f8a",
      "metadata": {
        "id": "53ddea59-fd79-4cef-9b01-1fd1ec9a5f8a"
      },
      "source": [
        "#### 1.1. Dataset\n",
        "\n",
        "Vamos a utlizar una versión modificada del dataset abierto de criticas de películas Españolas de Kaggle: [Críticas películas filmaffinity en Español](https://www.kaggle.com/datasets/ricardomoya/criticas-peliculas-filmaffinity-en-espaniol). El dataset se encuentra en archivo csv \"Tutorial-NLP_Analisis_de_Sentimientos.csv\".\n",
        "\n",
        "Para leer este archivo y operarlo vamos a hacer uso de la librería de python [Pandas](https://pandas.pydata.org/) y su método de lectura [read_csv](https://pandas.pydata.org/docs/reference/api/pandas.read_csv.html)."
      ]
    },
    {
      "cell_type": "code",
      "execution_count": 2,
      "id": "collected-projection",
      "metadata": {
        "id": "collected-projection"
      },
      "outputs": [
        {
          "data": {
            "text/html": [
              "<div>\n",
              "<style scoped>\n",
              "    .dataframe tbody tr th:only-of-type {\n",
              "        vertical-align: middle;\n",
              "    }\n",
              "\n",
              "    .dataframe tbody tr th {\n",
              "        vertical-align: top;\n",
              "    }\n",
              "\n",
              "    .dataframe thead th {\n",
              "        text-align: right;\n",
              "    }\n",
              "</style>\n",
              "<table border=\"1\" class=\"dataframe\">\n",
              "  <thead>\n",
              "    <tr style=\"text-align: right;\">\n",
              "      <th></th>\n",
              "      <th>film_name</th>\n",
              "      <th>gender</th>\n",
              "      <th>review_title</th>\n",
              "      <th>review_text</th>\n",
              "      <th>polaridad</th>\n",
              "    </tr>\n",
              "  </thead>\n",
              "  <tbody>\n",
              "    <tr>\n",
              "      <th>1533</th>\n",
              "      <td>Tengo ganas de ti</td>\n",
              "      <td>Romance</td>\n",
              "      <td>La culpa es del 3d</td>\n",
              "      <td>La culpa la tiene el despropósito tecnológico ...</td>\n",
              "      <td>negativo</td>\n",
              "    </tr>\n",
              "    <tr>\n",
              "      <th>1515</th>\n",
              "      <td>Lo imposible</td>\n",
              "      <td>Drama</td>\n",
              "      <td>Técnicamente estupenda, historia mejorable</td>\n",
              "      <td>Por fin he podido ver \"Lo imposible\" de JJ Bay...</td>\n",
              "      <td>positivo</td>\n",
              "    </tr>\n",
              "    <tr>\n",
              "      <th>1084</th>\n",
              "      <td>Perfectos desconocidos</td>\n",
              "      <td>Comedia</td>\n",
              "      <td>Interesante como entretenimiento y como fuente...</td>\n",
              "      <td>Perfectos desconocidos es una película dramáti...</td>\n",
              "      <td>positivo</td>\n",
              "    </tr>\n",
              "    <tr>\n",
              "      <th>2066</th>\n",
              "      <td>Campeones</td>\n",
              "      <td>Comedia</td>\n",
              "      <td>Yo soy Marco Montes</td>\n",
              "      <td>Después de formar como programadores a ingenie...</td>\n",
              "      <td>positivo</td>\n",
              "    </tr>\n",
              "    <tr>\n",
              "      <th>1289</th>\n",
              "      <td>Campeones</td>\n",
              "      <td>Comedia</td>\n",
              "      <td>Buenissima</td>\n",
              "      <td>Es una peli tan buena que con el tiempo seguro...</td>\n",
              "      <td>positivo</td>\n",
              "    </tr>\n",
              "  </tbody>\n",
              "</table>\n",
              "</div>"
            ],
            "text/plain": [
              "                   film_name   gender  \\\n",
              "1533       Tengo ganas de ti  Romance   \n",
              "1515            Lo imposible    Drama   \n",
              "1084  Perfectos desconocidos  Comedia   \n",
              "2066               Campeones  Comedia   \n",
              "1289               Campeones  Comedia   \n",
              "\n",
              "                                           review_title  \\\n",
              "1533                                 La culpa es del 3d   \n",
              "1515         Técnicamente estupenda, historia mejorable   \n",
              "1084  Interesante como entretenimiento y como fuente...   \n",
              "2066                                Yo soy Marco Montes   \n",
              "1289                                         Buenissima   \n",
              "\n",
              "                                            review_text polaridad  \n",
              "1533  La culpa la tiene el despropósito tecnológico ...  negativo  \n",
              "1515  Por fin he podido ver \"Lo imposible\" de JJ Bay...  positivo  \n",
              "1084  Perfectos desconocidos es una película dramáti...  positivo  \n",
              "2066  Después de formar como programadores a ingenie...  positivo  \n",
              "1289  Es una peli tan buena que con el tiempo seguro...  positivo  "
            ]
          },
          "execution_count": 2,
          "metadata": {},
          "output_type": "execute_result"
        }
      ],
      "source": [
        "df = pd.read_csv('Tutorial-NLP_Analisis_de_Sentimientos.csv', sep=',', header=0, index_col= None, engine='python',\n",
        "                 usecols=['film_name','gender','review_title','review_text','polaridad'])\n",
        "\n",
        "## Una vez realizado el cargue del dataset en un dataframe de pandas podemos explorarlo!\n",
        "## Revisemos 5 ejemplos del dataset.\n",
        "df.sample(5)"
      ]
    },
    {
      "cell_type": "markdown",
      "id": "abe7b59e-8808-44c6-bf7a-4c31f1a1815c",
      "metadata": {
        "id": "abe7b59e-8808-44c6-bf7a-4c31f1a1815c"
      },
      "source": [
        "Cada ejemplo del dataset (fila) representa una crítica realizada por un usuario a una pelicula.\n",
        "\n",
        "- La columna '*film_name*' indica el nombre de la película objeto de la crítica.\n",
        "- La columna '*gender*' indica el género de la película.\n",
        "- La columna '*review title*' es el título de la crítica.\n",
        "- La columna '*polaridad*' es la categoría/label asignado a la crítica.\n"
      ]
    },
    {
      "cell_type": "markdown",
      "id": "eef9640d-a4a3-4d72-9308-8ff10dba9213",
      "metadata": {
        "id": "eef9640d-a4a3-4d72-9308-8ff10dba9213"
      },
      "source": [
        "Revisemos la critica en la fila número 2895 en nuestro dataset. Para acceder vamos a utilizar [iloc](https://pandas.pydata.org/docs/reference/api/pandas.DataFrame.iloc.html) que nos permite seleccionar por indice."
      ]
    },
    {
      "cell_type": "code",
      "execution_count": 3,
      "id": "nutritional-artwork",
      "metadata": {
        "id": "nutritional-artwork"
      },
      "outputs": [
        {
          "data": {
            "text/plain": [
              "'Me aburrí.  No le vi la gracia a Ocho Apellidos Vascos, mucho menos se la voy a ver a este desgraciado efecto secundario.  El caso es que empecé a verla con ganas, a ver si por lo menos me reía de algún chiste, pero, o no los distinguí, o no existen en el texto o ando espesito yo.  El guión es un absurdo sin gracia, porque hay absurdos graciosos, pero no este, y si no hay guión no hay peli por mucho que tengamos a Karra y a la Sardá.  Me los imagino a los dos compartiendo unas kokotxas con xamfaina y haciéndose confidencias acerca de lo que tiene que hacer uno para que le quede una pensión decente.En realidad esta es la crítica de las tres cuartas partes de la película, el final me cogió haciéndome el colacao para irme a la cama.'"
            ]
          },
          "execution_count": 3,
          "metadata": {},
          "output_type": "execute_result"
        }
      ],
      "source": [
        "df.loc[2895].review_text"
      ]
    },
    {
      "cell_type": "markdown",
      "id": "8ecbdc3a-50a3-420b-b011-d867cd0b7b04",
      "metadata": {
        "id": "8ecbdc3a-50a3-420b-b011-d867cd0b7b04"
      },
      "source": [
        "Claramente la crítica es negativa, pero revisemos su categoría/label."
      ]
    },
    {
      "cell_type": "code",
      "execution_count": 4,
      "id": "regulation-basics",
      "metadata": {
        "id": "regulation-basics"
      },
      "outputs": [
        {
          "data": {
            "text/plain": [
              "'negativo'"
            ]
          },
          "execution_count": 4,
          "metadata": {},
          "output_type": "execute_result"
        }
      ],
      "source": [
        "df.loc[2895].polaridad"
      ]
    },
    {
      "cell_type": "markdown",
      "id": "4fe2329a-f77f-45dc-ade1-b39180eb08cd",
      "metadata": {
        "id": "4fe2329a-f77f-45dc-ade1-b39180eb08cd"
      },
      "source": [
        "Revisemos ahora cuantos ejemplos de críticas negativas y positivas tenemos en nuestro dataset. Esta información es relevante para:\n",
        "- Seleccionar la relación entre particiones de entrenamiento y testing de nuestro dataset.\n",
        "- Conocer si las clases estas balanceadas (cada clase tiene el mismo número de ejemplos).\n",
        "- Seleccionar le modelo de aprendizaje de máquina mas apropiado.\n",
        "\n",
        "Vamos a utilizar la función [catplot](https://seaborn.pydata.org/generated/seaborn.catplot.html) de la librería seaborn para la elaboración de un histograma."
      ]
    },
    {
      "cell_type": "code",
      "execution_count": 5,
      "id": "sustainable-somewhere",
      "metadata": {
        "id": "sustainable-somewhere"
      },
      "outputs": [
        {
          "name": "stderr",
          "output_type": "stream",
          "text": [
            "C:\\Users\\pms_l\\AppData\\Roaming\\Python\\Python311\\site-packages\\seaborn\\axisgrid.py:118: UserWarning: The figure layout has changed to tight\n",
            "  self._figure.tight_layout(*args, **kwargs)\n"
          ]
        },
        {
          "data": {
            "text/plain": [
              "Text(-3.6805555555555554, 0.5, 'Conteo')"
            ]
          },
          "execution_count": 5,
          "metadata": {},
          "output_type": "execute_result"
        },
        {
          "data": {
            "image/png": "[encoded data removed]",
            "text/plain": [
              "<Figure size 500x500 with 1 Axes>"
            ]
          },
          "metadata": {},
          "output_type": "display_data"
        }
      ],
      "source": [
        "sns.catplot(x='polaridad', kind='count', color='r', data=df)\n",
        "plt.title('Distribución de Ejemplos')\n",
        "plt.xlabel('Polaridad')\n",
        "plt.ylabel('Conteo')"
      ]
    },
    {
      "cell_type": "markdown",
      "id": "2ff28a07-75d8-4cf9-8f1c-c8dad3fc1a06",
      "metadata": {
        "id": "2ff28a07-75d8-4cf9-8f1c-c8dad3fc1a06"
      },
      "source": [
        "Del histograma se puede evidenciar:\n",
        "- Tenemos 1857 ejemplos de cada clase (positivo, negativo). Las clases estan perfectamente balanceadas.\n",
        "- En total tenemos 3714 ejemplos en el dataset."
      ]
    },
    {
      "cell_type": "markdown",
      "id": "9ef41c35-4a79-4a4d-81c1-cb6ca96391ad",
      "metadata": {
        "id": "9ef41c35-4a79-4a4d-81c1-cb6ca96391ad"
      },
      "source": [
        "#### 1.2. Unificación de texto\n",
        "\n",
        "En nuestro dataset tenemos dos fuentes de información textual de la crítica la columna review_text y la columna review_title. Vamos a concatenar ambos textos en una sola nueva columna que denomineros \"*texto*\". Usaremos su contenido para construir una representación de bolsa de palabras y posteriormente un modelo de Naive Bayes."
      ]
    },
    {
      "cell_type": "code",
      "execution_count": 6,
      "id": "recent-console",
      "metadata": {
        "id": "recent-console"
      },
      "outputs": [
        {
          "data": {
            "text/html": [
              "<div>\n",
              "<style scoped>\n",
              "    .dataframe tbody tr th:only-of-type {\n",
              "        vertical-align: middle;\n",
              "    }\n",
              "\n",
              "    .dataframe tbody tr th {\n",
              "        vertical-align: top;\n",
              "    }\n",
              "\n",
              "    .dataframe thead th {\n",
              "        text-align: right;\n",
              "    }\n",
              "</style>\n",
              "<table border=\"1\" class=\"dataframe\">\n",
              "  <thead>\n",
              "    <tr style=\"text-align: right;\">\n",
              "      <th></th>\n",
              "      <th>film_name</th>\n",
              "      <th>gender</th>\n",
              "      <th>review_title</th>\n",
              "      <th>review_text</th>\n",
              "      <th>polaridad</th>\n",
              "      <th>texto</th>\n",
              "    </tr>\n",
              "  </thead>\n",
              "  <tbody>\n",
              "    <tr>\n",
              "      <th>0</th>\n",
              "      <td>Volver</td>\n",
              "      <td>Drama</td>\n",
              "      <td>VOLVER AL PASADO, LA ETERNA RECURRENCIA</td>\n",
              "      <td>La última película de Almodóvar vuelve a ser u...</td>\n",
              "      <td>positivo</td>\n",
              "      <td>VOLVER AL PASADO, LA ETERNA RECURRENCIA La últ...</td>\n",
              "    </tr>\n",
              "    <tr>\n",
              "      <th>1</th>\n",
              "      <td>Mar adentro</td>\n",
              "      <td>Drama</td>\n",
              "      <td>Genialmente Horrible</td>\n",
              "      <td>Sinceramente, pienso que el fondo de la crític...</td>\n",
              "      <td>negativo</td>\n",
              "      <td>Genialmente Horrible Sinceramente, pienso que ...</td>\n",
              "    </tr>\n",
              "    <tr>\n",
              "      <th>2</th>\n",
              "      <td>Celda 211</td>\n",
              "      <td>Thriller</td>\n",
              "      <td>sobrevaloradísima</td>\n",
              "      <td>Lo siento, pero fui a verla con muchas expecta...</td>\n",
              "      <td>negativo</td>\n",
              "      <td>sobrevaloradísima Lo siento, pero fui a verla ...</td>\n",
              "    </tr>\n",
              "    <tr>\n",
              "      <th>3</th>\n",
              "      <td>Las aventuras de Tadeo Jones</td>\n",
              "      <td>Animación</td>\n",
              "      <td>Insultante.</td>\n",
              "      <td>La pelicula es muy mala. Incluso más que mala,...</td>\n",
              "      <td>negativo</td>\n",
              "      <td>Insultante. La pelicula es muy mala. Incluso m...</td>\n",
              "    </tr>\n",
              "    <tr>\n",
              "      <th>4</th>\n",
              "      <td>Mientras dure la guerra</td>\n",
              "      <td>Drama</td>\n",
              "      <td>Valiente Unamuno, o justicia para Unamuno, o r...</td>\n",
              "      <td>Una buena película, quizá gran película y muy ...</td>\n",
              "      <td>positivo</td>\n",
              "      <td>Valiente Unamuno, o justicia para Unamuno, o r...</td>\n",
              "    </tr>\n",
              "  </tbody>\n",
              "</table>\n",
              "</div>"
            ],
            "text/plain": [
              "                      film_name     gender  \\\n",
              "0                        Volver      Drama   \n",
              "1                   Mar adentro      Drama   \n",
              "2                     Celda 211   Thriller   \n",
              "3  Las aventuras de Tadeo Jones  Animación   \n",
              "4       Mientras dure la guerra      Drama   \n",
              "\n",
              "                                        review_title  \\\n",
              "0            VOLVER AL PASADO, LA ETERNA RECURRENCIA   \n",
              "1                               Genialmente Horrible   \n",
              "2                                  sobrevaloradísima   \n",
              "3                                        Insultante.   \n",
              "4  Valiente Unamuno, o justicia para Unamuno, o r...   \n",
              "\n",
              "                                         review_text polaridad  \\\n",
              "0  La última película de Almodóvar vuelve a ser u...  positivo   \n",
              "1  Sinceramente, pienso que el fondo de la crític...  negativo   \n",
              "2  Lo siento, pero fui a verla con muchas expecta...  negativo   \n",
              "3  La pelicula es muy mala. Incluso más que mala,...  negativo   \n",
              "4  Una buena película, quizá gran película y muy ...  positivo   \n",
              "\n",
              "                                               texto  \n",
              "0  VOLVER AL PASADO, LA ETERNA RECURRENCIA La últ...  \n",
              "1  Genialmente Horrible Sinceramente, pienso que ...  \n",
              "2  sobrevaloradísima Lo siento, pero fui a verla ...  \n",
              "3  Insultante. La pelicula es muy mala. Incluso m...  \n",
              "4  Valiente Unamuno, o justicia para Unamuno, o r...  "
            ]
          },
          "execution_count": 6,
          "metadata": {},
          "output_type": "execute_result"
        }
      ],
      "source": [
        "df['texto'] = df['review_title'] + ' ' + df['review_text']\n",
        "df.head(5)"
      ]
    },
    {
      "cell_type": "markdown",
      "id": "dae190f5-9192-4609-81ca-7802fdbaffcf",
      "metadata": {
        "id": "dae190f5-9192-4609-81ca-7802fdbaffcf"
      },
      "source": [
        "#### 1.3. Función de procesamiento\n",
        "\n",
        "Vamos a definir ahora una función \"*processing_text*\" encargada de modificar el texto de forma apropiada para ser usado en la representación. Es importante aclarar que el procesamiento cambia de acuerdo al dataset y el problema que se esta resolviendo, no existe una única formula mágica."
      ]
    },
    {
      "cell_type": "code",
      "execution_count": 7,
      "id": "durable-camping",
      "metadata": {
        "id": "durable-camping"
      },
      "outputs": [],
      "source": [
        "'''\n",
        "* processing_text\n",
        "* @param texto str\n",
        "* @return processed_feature str\n",
        "'''\n",
        "def processing_text(texto):\n",
        "    # Paso 1: Remover con un expresión regular carateres especiales (no palabras).\n",
        "    processed_feature = re.sub(r'\\W', ' ', str(texto))\n",
        "    # Paso 2: Remover ocurrencias de caracteres individuales\n",
        "    processed_feature= re.sub(r'\\s+[a-zA-Z]\\s+', ' ', processed_feature)\n",
        "    processed_feature = re.sub(r'\\^[a-zA-Z]\\s+', ' ', processed_feature)\n",
        "    # Paso 3: Remover números (Ocurrencias muy esporádicas en nuestro dataset)\n",
        "    processed_feature = re.sub(r'[0-9]+', ' ', processed_feature)\n",
        "    # Paso 4: Simplificar espacios concecutivos a un único espacio entre palabras\n",
        "    processed_feature = re.sub(' +', ' ', processed_feature)\n",
        "    # Paso 5: Pasar todo el texto a minúsculas\n",
        "    processed_feature = processed_feature.lower()\n",
        "    # Paso 6: Aplicar stemming. Es una forma de enviar las palabras a una raiz común simplificando de esta manera el vocabulario.\n",
        "    #         por ejemplo las palabras (absurdo, absurdos) que estan en el review 2895 seran llevados a la raiz común \"absurd\"\n",
        "    #         y de esta forma se evita tener dos palabras diferentes con el mismo significado en nuestro vocabulario.\n",
        "    processed_feature = \" \".join([stemmer.stem(i) for i in processed_feature.split()])\n",
        "\n",
        "\t#\n",
        " \n",
        "    return processed_feature\n",
        "\n"
      ]
    },
    {
      "cell_type": "markdown",
      "id": "61fa029d-d65d-4fa5-a427-faa8339d1566",
      "metadata": {
        "id": "61fa029d-d65d-4fa5-a427-faa8339d1566"
      },
      "source": [
        "Ahora que ya tenemos nuestra función de procesamiento la vamos a aplicar a nuestro dataset."
      ]
    },
    {
      "cell_type": "code",
      "execution_count": 8,
      "id": "integrated-devices",
      "metadata": {
        "id": "integrated-devices"
      },
      "outputs": [],
      "source": [
        "# Primero vamos extraer del dataframe la columna texto y la polaridad y las almacenaremos en las variables\n",
        "# texto_para_procesar y labels respectivamente\n",
        "texto_para_procesar = df['texto'].values\n",
        "labels = df['polaridad'].values\n",
        "\n",
        "# El texto ya procesado de cada ejemplo en nuestro dataset lo almacenaremos en la variable \"texto_procesado\"\n",
        "texto_procesado = []\n",
        "for sentence in range(0, len(texto_para_procesar)):\n",
        "    procesado = processing_text(texto_para_procesar[sentence])\n",
        "    texto_procesado.append(procesado)"
      ]
    },
    {
      "cell_type": "code",
      "execution_count": 9,
      "id": "criminal-delivery",
      "metadata": {
        "id": "criminal-delivery"
      },
      "outputs": [
        {
          "name": "stdout",
          "output_type": "stream",
          "text": [
            "Sin procesar:\n",
            "No pude acabar de verla Me aburrí.  No le vi la gracia a Ocho Apellidos Vascos, mucho menos se la voy a ver a este desgraciado efecto secundario.  El caso es que empecé a verla con ganas, a ver si por lo menos me reía de algún chiste, pero, o no los distinguí, o no existen en el texto o ando espesito yo.  El guión es un absurdo sin gracia, porque hay absurdos graciosos, pero no este, y si no hay guión no hay peli por mucho que tengamos a Karra y a la Sardá.  Me los imagino a los dos compartiendo unas kokotxas con xamfaina y haciéndose confidencias acerca de lo que tiene que hacer uno para que le quede una pensión decente.En realidad esta es la crítica de las tres cuartas partes de la película, el final me cogió haciéndome el colacao para irme a la cama.\n",
            "---------------------------------\n",
            "Procesado:\n",
            "no pud acab de verl me aburr no le vi la graci ocho apell vasc much men se la voy ver este desgraci efect secundari el cas es que empec verl con gan ver si por lo men me rei de algun chist per no los distingu no exist en el text ando espesit yo el guion es un absurd sin graci porqu hay absurd gracios per no este si no hay guion no hay peli por much que teng karr a la sard me los imagin los dos compart unas kokotx con xamfain hac confident acerc de lo que tien que hac uno par que le qued una pension decent en realid esta es la critic de las tres cuart part de la pelicul el final me cog hac el colaca par irme la cam\n"
          ]
        }
      ],
      "source": [
        "# Comparemos ahora la crítica 2895 procesada vs no procesada.\n",
        "print(\"Sin procesar:\")\n",
        "print(texto_para_procesar[2895])\n",
        "print(\"---------------------------------\")\n",
        "print(\"Procesado:\")\n",
        "print(texto_procesado[2895])"
      ]
    },
    {
      "cell_type": "markdown",
      "id": "0c299ad4-6900-476c-a90a-99228627ebb9",
      "metadata": {
        "id": "0c299ad4-6900-476c-a90a-99228627ebb9"
      },
      "source": [
        ".\n",
        ".\n",
        ".\n",
        "\n",
        "\n",
        "Debido al proceso de stemming ahora el texto es mucho mas dificil de leer, sin embargo, el stemming nos permitirá tener un vocabulario reducido.\n",
        "Ahora solo nos hace falta una etapa del procesamiento que es la eliminación de *palabras de parada*. Las palabras de parada son las palabras más comunes en cualquier idioma:  artículos, preposiciones, pronombres, conjunciones, etc. y no agregan mucha información sobre la semántica del texto. Veamos una lista de estas palabras:"
      ]
    },
    {
      "cell_type": "code",
      "execution_count": 10,
      "id": "scientific-temperature",
      "metadata": {
        "id": "scientific-temperature"
      },
      "outputs": [
        {
          "name": "stdout",
          "output_type": "stream",
          "text": [
            "['de', 'la', 'que', 'el', 'en', 'y', 'a', 'los', 'del', 'se', 'las', 'por', 'un', 'para', 'con', 'no', 'una', 'su', 'al', 'lo', 'como', 'más', 'pero', 'sus', 'le', 'ya', 'o', 'este', 'sí', 'porque', 'esta', 'entre', 'cuando', 'muy', 'sin', 'sobre', 'también', 'me', 'hasta', 'hay', 'donde', 'quien', 'desde', 'todo', 'nos', 'durante', 'todos', 'uno', 'les', 'ni', 'contra', 'otros', 'ese', 'eso', 'ante', 'ellos', 'e', 'esto', 'mí', 'antes', 'algunos', 'qué', 'unos', 'yo', 'otro', 'otras', 'otra', 'él', 'tanto', 'esa', 'estos', 'mucho', 'quienes', 'nada', 'muchos', 'cual', 'poco', 'ella', 'estar', 'estas', 'algunas', 'algo', 'nosotros', 'mi', 'mis', 'tú', 'te', 'ti', 'tu', 'tus', 'ellas', 'nosotras', 'vosotros', 'vosotras', 'os', 'mío', 'mía', 'míos', 'mías', 'tuyo', 'tuya', 'tuyos', 'tuyas', 'suyo', 'suya', 'suyos', 'suyas', 'nuestro', 'nuestra', 'nuestros', 'nuestras', 'vuestro', 'vuestra', 'vuestros', 'vuestras', 'esos', 'esas', 'estoy', 'estás', 'está', 'estamos', 'estáis', 'están', 'esté', 'estés', 'estemos', 'estéis', 'estén', 'estaré', 'estarás', 'estará', 'estaremos', 'estaréis', 'estarán', 'estaría', 'estarías', 'estaríamos', 'estaríais', 'estarían', 'estaba', 'estabas', 'estábamos', 'estabais', 'estaban', 'estuve', 'estuviste', 'estuvo', 'estuvimos', 'estuvisteis', 'estuvieron', 'estuviera', 'estuvieras', 'estuviéramos', 'estuvierais', 'estuvieran', 'estuviese', 'estuvieses', 'estuviésemos', 'estuvieseis', 'estuviesen', 'estando', 'estado', 'estada', 'estados', 'estadas', 'estad', 'he', 'has', 'ha', 'hemos', 'habéis', 'han', 'haya', 'hayas', 'hayamos', 'hayáis', 'hayan', 'habré', 'habrás', 'habrá', 'habremos', 'habréis', 'habrán', 'habría', 'habrías', 'habríamos', 'habríais', 'habrían', 'había', 'habías', 'habíamos', 'habíais', 'habían', 'hube', 'hubiste', 'hubo', 'hubimos', 'hubisteis', 'hubieron', 'hubiera', 'hubieras', 'hubiéramos', 'hubierais', 'hubieran', 'hubiese', 'hubieses', 'hubiésemos', 'hubieseis', 'hubiesen', 'habiendo', 'habido', 'habida', 'habidos', 'habidas', 'soy', 'eres', 'es', 'somos', 'sois', 'son', 'sea', 'seas', 'seamos', 'seáis', 'sean', 'seré', 'serás', 'será', 'seremos', 'seréis', 'serán', 'sería', 'serías', 'seríamos', 'seríais', 'serían', 'era', 'eras', 'éramos', 'erais', 'eran', 'fui', 'fuiste', 'fue', 'fuimos', 'fuisteis', 'fueron', 'fuera', 'fueras', 'fuéramos', 'fuerais', 'fueran', 'fuese', 'fueses', 'fuésemos', 'fueseis', 'fuesen', 'sintiendo', 'sentido', 'sentida', 'sentidos', 'sentidas', 'siente', 'sentid', 'tengo', 'tienes', 'tiene', 'tenemos', 'tenéis', 'tienen', 'tenga', 'tengas', 'tengamos', 'tengáis', 'tengan', 'tendré', 'tendrás', 'tendrá', 'tendremos', 'tendréis', 'tendrán', 'tendría', 'tendrías', 'tendríamos', 'tendríais', 'tendrían', 'tenía', 'tenías', 'teníamos', 'teníais', 'tenían', 'tuve', 'tuviste', 'tuvo', 'tuvimos', 'tuvisteis', 'tuvieron', 'tuviera', 'tuvieras', 'tuviéramos', 'tuvierais', 'tuvieran', 'tuviese', 'tuvieses', 'tuviésemos', 'tuvieseis', 'tuviesen', 'teniendo', 'tenido', 'tenida', 'tenidos', 'tenidas', 'tened']\n"
          ]
        }
      ],
      "source": [
        "print(stopwords.words('spanish'))"
      ]
    },
    {
      "cell_type": "markdown",
      "id": "7ed10738-1a28-4443-bab2-275b7fcc61b2",
      "metadata": {
        "id": "7ed10738-1a28-4443-bab2-275b7fcc61b2"
      },
      "source": [
        "La eliminación de palabras de parada no siempre es apropiada en las tareas de procesamiento de lenguaje natural. Por ejemplo, si queremos construir un modelo que genere texto coherente es necesario preservar la estructura sintáctica del lenguaje y esto incluye por supuesto las palabras de parada."
      ]
    },
    {
      "cell_type": "markdown",
      "id": "9ab51ba1-f40f-4dfc-9d07-64e52b8b22c5",
      "metadata": {
        "id": "9ab51ba1-f40f-4dfc-9d07-64e52b8b22c5"
      },
      "source": [
        "## 2. Representación del texto\n",
        "\n",
        "En esta etapa debemos tomar el texto procesado y representarlo de alguna forma que nos permita operarlo apropiadamente. Vamos a usar la representación más básica que es la *bolsa de palabras*.  Una bolsa de palabras es una representación de texto que describe la ocurrencia de palabras dentro de un documento e implica:\n",
        "\n",
        "- Un vocabulario de palabras.\n",
        "- Una ponderación de la presencia de palabras del vocabulario. La forma mas simple es realizar el conteo de las ocurrecias de las palabras del vocabulario en el texto.\n",
        "\n",
        "Se llama *bolsa de palabras*, porque se descarta cualquier información sobre el orden o la estructura de las palabras en el documento. El modelo solo se preocupa por si las palabras conocidas ocurren en el documento o no. Para construir una bolsa de palabras en sklearn podemos hacer uso de [CountVectorizer](https://scikit-learn.org/stable/modules/generated/sklearn.feature_extraction.text.CountVectorizer.html) que construye el vocabulario de palabras de nuestro conjunto de datos y transforma el texto en un vector de conteo de palabras."
      ]
    },
    {
      "cell_type": "code",
      "execution_count": 11,
      "id": "aboriginal-brain",
      "metadata": {
        "id": "aboriginal-brain"
      },
      "outputs": [],
      "source": [
        "# Bolsa de palabras\n",
        "vectorizer = CountVectorizer(max_features=2500, stop_words=stopwords.words('spanish'))\n",
        "# max_features representa el tamaño del vocabulario. Vamos a permitir 2500 palabras.\n",
        "# stop_words le indicamos las palabras de parada para que las ignore en el vocabulario.\n",
        "\n",
        "# Ahora le solicitamos utilizando nuestro conjunto de datos que construya el vocabulario y tambien transforme nuestro texto\n",
        "texto_features = vectorizer.fit_transform(texto_procesado).toarray()\n"
      ]
    },
    {
      "cell_type": "markdown",
      "id": "f3659ac1-9615-432d-b08e-18b9711fa13c",
      "metadata": {
        "id": "f3659ac1-9615-432d-b08e-18b9711fa13c"
      },
      "source": [
        "#### 2.1. Vocabulario\n",
        "\n",
        "Revisemos el vocabulario. *CountVectorizer* tomo todas las críticas del dataset, extrajo todas las palabras diferentes y calculo el número de apariciones. De todas las palabras matuvo las 2500 mas frecuentes sin tener en cuenta la lista de palabras de parada."
      ]
    },
    {
      "cell_type": "code",
      "execution_count": 12,
      "id": "living-counter",
      "metadata": {
        "id": "living-counter"
      },
      "outputs": [
        {
          "data": {
            "text/plain": [
              "array(['abaj', 'abandon', 'abarc', 'aberr', 'abiert', 'abord', 'abre',\n",
              "       'absolut', 'absurd', 'abuel'], dtype=object)"
            ]
          },
          "execution_count": 12,
          "metadata": {},
          "output_type": "execute_result"
        }
      ],
      "source": [
        "# Para ver las primeras 10 palabras del vocabulario podemos hacer uso del método get_feature_names\n",
        "vectorizer.get_feature_names_out()[0:10]"
      ]
    },
    {
      "cell_type": "code",
      "execution_count": 30,
      "id": "6b6cbec6",
      "metadata": {},
      "outputs": [
        {
          "data": {
            "text/plain": [
              "array([[0, 0, 0, ..., 0, 0, 0],\n",
              "       [0, 0, 0, ..., 0, 0, 0],\n",
              "       [0, 0, 0, ..., 0, 0, 0],\n",
              "       ...,\n",
              "       [0, 0, 0, ..., 0, 0, 0],\n",
              "       [0, 0, 0, ..., 0, 0, 0],\n",
              "       [0, 0, 0, ..., 0, 0, 0]], dtype=int64)"
            ]
          },
          "execution_count": 30,
          "metadata": {},
          "output_type": "execute_result"
        }
      ],
      "source": [
        "texto_features"
      ]
    },
    {
      "cell_type": "markdown",
      "id": "c9f81321-bc57-4204-9acb-76c42b082d7e",
      "metadata": {
        "id": "c9f81321-bc57-4204-9acb-76c42b082d7e"
      },
      "source": [
        "#### 2.2. Representación vectorial del texto\n",
        "\n",
        "Una vez construido el vocabulario, *CountVectorizer* construye una representación vectorial de cada crítica. El valor de cada dimensión de dicho vector corresponde al número  de ocurrencias de una palabra del vocabulario. Este vector tendra po lo tanto tantas dimensiones como palabras en el vocabulario, en nuestro caso 2500.\n",
        "\n",
        "Volvamos al texto procesado de la crítica 2895:\n",
        "\n",
        "*\"no pud acab de verl me aburr no le vi la graci ocho apell vasc much men se la voy ver este desgraci efect secundari el cas es que empec verl con gan ver si por lo men me rei de algun chist per no los distingu no exist en el text ando espesit yo el guion es un absurd sin graci porqu hay absurd gracios per no este si no hay guion no hay peli por much que teng karr a la sard me los imagin los dos compart unas kokotx con xamfain hac confident acerc de lo que tien que hac uno par que le qued una pension decent en realid esta es la critic de las tres cuart part de la pelicul el final me cog hac el colaca par irme la cam\n",
        "\"*\n",
        "\n",
        "Como se pueden dar cuenta la palabra *absurd* aparece dos veces en el texto. Esta palabra es la número 9 en nuestro vocabulario, por lo tanto la representación vectorial de la crítica 2895 deberá contener un 2 (frecuencia) en la dimension 9."
      ]
    },
    {
      "cell_type": "code",
      "execution_count": 43,
      "id": "9b4937f3",
      "metadata": {},
      "outputs": [
        {
          "data": {
            "text/plain": [
              "2500"
            ]
          },
          "execution_count": 43,
          "metadata": {},
          "output_type": "execute_result"
        }
      ],
      "source": [
        "len(vectorizer.get_feature_names_out())"
      ]
    },
    {
      "cell_type": "code",
      "execution_count": 41,
      "id": "df864ae3",
      "metadata": {},
      "outputs": [
        {
          "data": {
            "text/plain": [
              "array(['abaj', 'abandon', 'abarc', 'aberr', 'abiert', 'abord', 'abre',\n",
              "       'absolut', 'absurd', 'abuel'], dtype=object)"
            ]
          },
          "execution_count": 41,
          "metadata": {},
          "output_type": "execute_result"
        }
      ],
      "source": [
        "vectorizer.get_feature_names_out()[:10]"
      ]
    },
    {
      "cell_type": "code",
      "execution_count": 35,
      "id": "ce48a480",
      "metadata": {},
      "outputs": [
        {
          "data": {
            "text/plain": [
              "'no pud acab de verl me aburr no le vi la graci ocho apell vasc much men se la voy ver este desgraci efect secundari el cas es que empec verl con gan ver si por lo men me rei de algun chist per no los distingu no exist en el text ando espesit yo el guion es un absurd sin graci porqu hay absurd gracios per no este si no hay guion no hay peli por much que teng karr a la sard me los imagin los dos compart unas kokotx con xamfain hac confident acerc de lo que tien que hac uno par que le qued una pension decent en realid esta es la critic de las tres cuart part de la pelicul el final me cog hac el colaca par irme la cam'"
            ]
          },
          "execution_count": 35,
          "metadata": {},
          "output_type": "execute_result"
        }
      ],
      "source": [
        "texto_procesado[2895]"
      ]
    },
    {
      "cell_type": "code",
      "execution_count": 36,
      "id": "level-applicant",
      "metadata": {
        "id": "level-applicant"
      },
      "outputs": [
        {
          "name": "stdout",
          "output_type": "stream",
          "text": [
            "2500\n",
            "[0 0 0 0 0 0 0 0 2 0 0 1 0 1 0 0 0 0 0 0 1 0 0 0 0 0 0 0 0 0 0 0 0 0 0 0 0\n",
            " 0 0 0 0 0 0 0 0 0 0 0 0 0 0 0 0 0 0 0 0 0 0 0 0 0 0 0 0 0 0 0 0 0 0 0 0 0\n",
            " 0 0 0 0 0 0 0 0 0 0 0 0 0 0 0 0 0 0 0 0 0 1 0 0 0 0]\n"
          ]
        }
      ],
      "source": [
        "print(len(texto_features[2895])) # Longitud del vector que representa a la crítica 2895.\n",
        "print(texto_features[2895][0:100]) # 100 primeras posiciones del vector de la crítica. Puede ubicar la dimensión correspondiente a la palabra \"absurb\"?"
      ]
    },
    {
      "cell_type": "markdown",
      "id": "1b3875be-6773-4042-b55f-37c4ad1d45ec",
      "metadata": {
        "id": "1b3875be-6773-4042-b55f-37c4ad1d45ec"
      },
      "source": [
        "## 3. Modelamiento y evaluación\n",
        "\n",
        "Ahora que tenemos nuestra representación, es necesario construir y evaluar nuestro modelo de Naive Bayes. Necesitamos un subconjunto de los datos para construir nuestro modelo probabilisitico (train) y otro subconjunto para evaluarlo (test)."
      ]
    },
    {
      "cell_type": "code",
      "execution_count": 14,
      "id": "mineral-announcement",
      "metadata": {
        "id": "mineral-announcement"
      },
      "outputs": [],
      "source": [
        "# Aca dividimos nuestro dataset en entrenamiento y texto. 20% para evaluar (test) y 80% para entrenamiento (train).\n",
        "# En las variables X_ quedaran almacenados las presentaciones vectoriales de las críticas.\n",
        "# En las variables y_ las etiquetas o categorias (polaridad de la crítica).\n",
        "X_train, X_test, y_train, y_test = train_test_split(texto_features, labels, test_size=0.2, random_state=0)"
      ]
    },
    {
      "cell_type": "markdown",
      "id": "380a64d8-8133-4761-8972-8ee83e0eccf9",
      "metadata": {
        "id": "380a64d8-8133-4761-8972-8ee83e0eccf9"
      },
      "source": [
        "Ahora vamos a entrenar el modelo. En sklearn [MultinomialNB](https://scikit-learn.org/stable/modules/generated/sklearn.naive_bayes.MultinomialNB.html?highlight=multinomialnb#sklearn.naive_bayes.MultinomialNB) nos permite entrenar un modelo de Naive Bayes."
      ]
    },
    {
      "cell_type": "code",
      "execution_count": 15,
      "id": "owned-minute",
      "metadata": {
        "id": "owned-minute"
      },
      "outputs": [
        {
          "data": {
            "text/html": [
              "<style>#sk-container-id-1 {color: black;}#sk-container-id-1 pre{padding: 0;}#sk-container-id-1 div.sk-toggleable {background-color: white;}#sk-container-id-1 label.sk-toggleable__label {cursor: pointer;display: block;width: 100%;margin-bottom: 0;padding: 0.3em;box-sizing: border-box;text-align: center;}#sk-container-id-1 label.sk-toggleable__label-arrow:before {content: \"▸\";float: left;margin-right: 0.25em;color: #696969;}#sk-container-id-1 label.sk-toggleable__label-arrow:hover:before {color: black;}#sk-container-id-1 div.sk-estimator:hover label.sk-toggleable__label-arrow:before {color: black;}#sk-container-id-1 div.sk-toggleable__content {max-height: 0;max-width: 0;overflow: hidden;text-align: left;background-color: #f0f8ff;}#sk-container-id-1 div.sk-toggleable__content pre {margin: 0.2em;color: black;border-radius: 0.25em;background-color: #f0f8ff;}#sk-container-id-1 input.sk-toggleable__control:checked~div.sk-toggleable__content {max-height: 200px;max-width: 100%;overflow: auto;}#sk-container-id-1 input.sk-toggleable__control:checked~label.sk-toggleable__label-arrow:before {content: \"▾\";}#sk-container-id-1 div.sk-estimator input.sk-toggleable__control:checked~label.sk-toggleable__label {background-color: #d4ebff;}#sk-container-id-1 div.sk-label input.sk-toggleable__control:checked~label.sk-toggleable__label {background-color: #d4ebff;}#sk-container-id-1 input.sk-hidden--visually {border: 0;clip: rect(1px 1px 1px 1px);clip: rect(1px, 1px, 1px, 1px);height: 1px;margin: -1px;overflow: hidden;padding: 0;position: absolute;width: 1px;}#sk-container-id-1 div.sk-estimator {font-family: monospace;background-color: #f0f8ff;border: 1px dotted black;border-radius: 0.25em;box-sizing: border-box;margin-bottom: 0.5em;}#sk-container-id-1 div.sk-estimator:hover {background-color: #d4ebff;}#sk-container-id-1 div.sk-parallel-item::after {content: \"\";width: 100%;border-bottom: 1px solid gray;flex-grow: 1;}#sk-container-id-1 div.sk-label:hover label.sk-toggleable__label {background-color: #d4ebff;}#sk-container-id-1 div.sk-serial::before {content: \"\";position: absolute;border-left: 1px solid gray;box-sizing: border-box;top: 0;bottom: 0;left: 50%;z-index: 0;}#sk-container-id-1 div.sk-serial {display: flex;flex-direction: column;align-items: center;background-color: white;padding-right: 0.2em;padding-left: 0.2em;position: relative;}#sk-container-id-1 div.sk-item {position: relative;z-index: 1;}#sk-container-id-1 div.sk-parallel {display: flex;align-items: stretch;justify-content: center;background-color: white;position: relative;}#sk-container-id-1 div.sk-item::before, #sk-container-id-1 div.sk-parallel-item::before {content: \"\";position: absolute;border-left: 1px solid gray;box-sizing: border-box;top: 0;bottom: 0;left: 50%;z-index: -1;}#sk-container-id-1 div.sk-parallel-item {display: flex;flex-direction: column;z-index: 1;position: relative;background-color: white;}#sk-container-id-1 div.sk-parallel-item:first-child::after {align-self: flex-end;width: 50%;}#sk-container-id-1 div.sk-parallel-item:last-child::after {align-self: flex-start;width: 50%;}#sk-container-id-1 div.sk-parallel-item:only-child::after {width: 0;}#sk-container-id-1 div.sk-dashed-wrapped {border: 1px dashed gray;margin: 0 0.4em 0.5em 0.4em;box-sizing: border-box;padding-bottom: 0.4em;background-color: white;}#sk-container-id-1 div.sk-label label {font-family: monospace;font-weight: bold;display: inline-block;line-height: 1.2em;}#sk-container-id-1 div.sk-label-container {text-align: center;}#sk-container-id-1 div.sk-container {/* jupyter's `normalize.less` sets `[hidden] { display: none; }` but bootstrap.min.css set `[hidden] { display: none !important; }` so we also need the `!important` here to be able to override the default hidden behavior on the sphinx rendered scikit-learn.org. See: https://github.com/scikit-learn/scikit-learn/issues/21755 */display: inline-block !important;position: relative;}#sk-container-id-1 div.sk-text-repr-fallback {display: none;}</style><div id=\"sk-container-id-1\" class=\"sk-top-container\"><div class=\"sk-text-repr-fallback\"><pre>MultinomialNB()</pre><b>In a Jupyter environment, please rerun this cell to show the HTML representation or trust the notebook. <br />On GitHub, the HTML representation is unable to render, please try loading this page with nbviewer.org.</b></div><div class=\"sk-container\" hidden><div class=\"sk-item\"><div class=\"sk-estimator sk-toggleable\"><input class=\"sk-toggleable__control sk-hidden--visually\" id=\"sk-estimator-id-1\" type=\"checkbox\" checked><label for=\"sk-estimator-id-1\" class=\"sk-toggleable__label sk-toggleable__label-arrow\">MultinomialNB</label><div class=\"sk-toggleable__content\"><pre>MultinomialNB()</pre></div></div></div></div></div>"
            ],
            "text/plain": [
              "MultinomialNB()"
            ]
          },
          "execution_count": 15,
          "metadata": {},
          "output_type": "execute_result"
        }
      ],
      "source": [
        "# Ahora entrenemos un modelo simple. Ya conocenos Naive Bayes!!\n",
        "nb = MultinomialNB()\n",
        "# El método fit en sklearn permite ejecutar el proceso de entrenamiento.\n",
        "nb.fit(X_train, y_train)"
      ]
    },
    {
      "cell_type": "markdown",
      "id": "192c5ae5-19f5-4351-a83f-f4200ac8cce9",
      "metadata": {
        "id": "192c5ae5-19f5-4351-a83f-f4200ac8cce9"
      },
      "source": [
        "#### 3.1. Evaluación\n",
        "\n",
        "Listo, ya tenemos nuesto modelo de Naive Bayes entrenado, es necesario evaluarlo con el cunjunto de test. Vamos a utilizar una metrica conocida como accuracy que representa la relación de críticas para las cuales el modelo predijo correctamente la crítica. Un valor de 1 en el accuracy indica que a todas las criticas se les predijo correctamente la polaridad, mientras que un accuracy de 0 indica que el modelo fallo todas sus predicciones. Existen otras métricas de evaluación pero por ahora lo vamos a mantener simple."
      ]
    },
    {
      "cell_type": "code",
      "execution_count": 16,
      "id": "roman-wrapping",
      "metadata": {
        "id": "roman-wrapping"
      },
      "outputs": [],
      "source": [
        "# Ahora vamos a evaluar que tan bueno es nuestro modelo NB, utlilizando el conjunto de datos de test.\n",
        "# Para predecir utlizamos el método predict.\n",
        "\n",
        "predictions = nb.predict(X_test)"
      ]
    },
    {
      "cell_type": "code",
      "execution_count": 17,
      "id": "MNP5nJ6n-HXM",
      "metadata": {
        "id": "MNP5nJ6n-HXM"
      },
      "outputs": [
        {
          "name": "stdout",
          "output_type": "stream",
          "text": [
            "0.8586810228802153\n"
          ]
        }
      ],
      "source": [
        "# Ahora calculamos el score de accuracy enviando las predicciónes y los valores reales de polaridad.\n",
        "print(accuracy_score(y_test, predictions))"
      ]
    },
    {
      "cell_type": "markdown",
      "id": "fe4c3f5a-6f31-4b4d-b65a-150ec6408203",
      "metadata": {
        "id": "fe4c3f5a-6f31-4b4d-b65a-150ec6408203"
      },
      "source": [
        "Un accuracy mayor al 80% no esta nada mal para un modelo simple como Naive Bayes. Vamos ahora a jugar un poco con el modelo y enviarle texto que nosotros construyamos."
      ]
    },
    {
      "cell_type": "code",
      "execution_count": 18,
      "id": "incomplete-bible",
      "metadata": {
        "id": "incomplete-bible"
      },
      "outputs": [
        {
          "name": "stdout",
          "output_type": "stream",
          "text": [
            "PASO 1 procesamiento: fue la mejor pelicul pelicul que he vist en mi vid\n",
            "PASO 2 representación:   (0, 1484)\t1\n",
            "  (0, 1733)\t2\n",
            "  (0, 2450)\t1\n",
            "  (0, 2469)\t1\n",
            "PASO 3 predecir con el modelo: ['positivo']\n"
          ]
        }
      ],
      "source": [
        "\n",
        "# Utilizemos la siguiente frase de test (sientanse en la libertad de cambiarla).\n",
        "test = \"Fue la mejor pelicula Pelicula que he visto en mi vida\"\n",
        "\n",
        "# Recuerden el modelo recibe la representación vectorial del texto, no el texto en bruto. Debemos procesar y representar el texto.\n",
        "\n",
        "test_procesado = processing_text(test) # Aplicamos nuestra función de procesamiento\n",
        "print(\"PASO 1 procesamiento:\" ,test_procesado)\n",
        "\n",
        "test_bow =vectorizer.transform([test_procesado]) # Ahora lo representamos como una bolsa de palabras. El vector resultante tiene 2500 posiciones.\n",
        "print(\"PASO 2 representación:\" ,test_bow) # En esa impresion no aparecen las 2500 posiciones del vector, solo la lista de posiciones que son diferentes de cero.\n",
        "\n",
        "# Ahora que ya lo tenemos en la representación adecuada lo podemos enviar al modelo para que este prediga su polaridad.\n",
        "clase_test = nb.predict(test_bow)\n",
        "print(\"PASO 3 predecir con el modelo:\" ,clase_test)"
      ]
    },
    {
      "cell_type": "markdown",
      "id": "b132dbb7-0d43-48e0-a701-2829292c2a17",
      "metadata": {
        "id": "b132dbb7-0d43-48e0-a701-2829292c2a17"
      },
      "source": [
        "Modifique el texto en la variable test para que el modelo ahora prediga una polaridad negativa. ¿Se le ocurre alguna forma de confundir al modelo para que la predicción sea incorrecta?, pruebe por ejemplo doble negaciones en el texto."
      ]
    },
    {
      "cell_type": "code",
      "execution_count": 19,
      "id": "0ioGv9tsCHEj",
      "metadata": {
        "id": "0ioGv9tsCHEj"
      },
      "outputs": [],
      "source": [
        "## OPCIONAL\n",
        "## Vamos a profundizar en estos conceptos mas adelante.\n",
        "cm = confusion_matrix(y_test, predictions,labels=nb.classes_)"
      ]
    },
    {
      "cell_type": "code",
      "execution_count": 20,
      "id": "q6Y2RjDiIiPS",
      "metadata": {
        "id": "q6Y2RjDiIiPS"
      },
      "outputs": [
        {
          "data": {
            "text/plain": [
              "<sklearn.metrics._plot.confusion_matrix.ConfusionMatrixDisplay at 0x1ce0d61cf10>"
            ]
          },
          "execution_count": 20,
          "metadata": {},
          "output_type": "execute_result"
        },
        {
          "data": {
            "image/png": "[encoded data removed]",
            "text/plain": [
              "<Figure size 640x480 with 2 Axes>"
            ]
          },
          "metadata": {},
          "output_type": "display_data"
        }
      ],
      "source": [
        "disp = ConfusionMatrixDisplay(confusion_matrix=cm, display_labels=nb.classes_)\n",
        "disp.plot()"
      ]
    },
    {
      "cell_type": "code",
      "execution_count": 21,
      "id": "4goM7aR4CO9i",
      "metadata": {
        "id": "4goM7aR4CO9i"
      },
      "outputs": [
        {
          "name": "stdout",
          "output_type": "stream",
          "text": [
            "              precision    recall  f1-score   support\n",
            "\n",
            "    negativo     0.8499    0.8661    0.8579       366\n",
            "    positivo     0.8676    0.8515    0.8594       377\n",
            "\n",
            "    accuracy                         0.8587       743\n",
            "   macro avg     0.8587    0.8588    0.8587       743\n",
            "weighted avg     0.8588    0.8587    0.8587       743\n",
            "\n"
          ]
        }
      ],
      "source": [
        "## OPCIONAL\n",
        "print(classification_report(y_test, predictions, digits=4))"
      ]
    }
  ],
  "metadata": {
    "colab": {
      "provenance": []
    },
    "kernelspec": {
      "display_name": "Python 3",
      "language": "python",
      "name": "python3"
    },
    "language_info": {
      "codemirror_mode": {
        "name": "ipython",
        "version": 3
      },
      "file_extension": ".py",
      "mimetype": "text/x-python",
      "name": "python",
      "nbconvert_exporter": "python",
      "pygments_lexer": "ipython3",
      "version": "3.11.4"
    }
  },
  "nbformat": 4,
  "nbformat_minor": 5
}
