{
  "cells": [
    {
      "cell_type": "markdown",
      "metadata": {
        "id": "sRnwuhv78GDd"
      },
      "source": [
        "#  Laboratorio #2: Regresión logística"
      ]
    },
    {
      "cell_type": "markdown",
      "metadata": {
        "id": "KolWC8COTmdt"
      },
      "source": [
        "# Regresión logística Binaria"
      ]
    },
    {
      "cell_type": "markdown",
      "metadata": {
        "id": "00WGFBhAUX4g"
      },
      "source": [
        "## Función de activación sigmoidal"
      ]
    },
    {
      "cell_type": "code",
      "execution_count": 1,
      "metadata": {
        "id": "XND9mx9jWETi"
      },
      "outputs": [],
      "source": [
        "import numpy as np\n",
        "import matplotlib.pyplot as plt"
      ]
    },
    {
      "cell_type": "code",
      "execution_count": 2,
      "metadata": {
        "id": "lnkGDtkoVY45"
      },
      "outputs": [],
      "source": [
        "'''\n",
        "La función sigmoidal nos permite expresar el valor de z entre 0 y 1 usando el\n",
        "simil de una probabilidad condicional.\n",
        "En este caso z sería la ecuación de la regresión W*X + b\n",
        "'''\n",
        "def sigmoid(z):\n",
        "  '''\n",
        "  z = w*X + b\n",
        "  w: es el vector de pesos o de coeficientes\n",
        "  x: vector de features\n",
        "  b: El interceto, también conocido como bias\n",
        "  '''\n",
        "  sgm = 1.0 / (1.0 + np.exp(-z))\n",
        "  return sgm\n",
        "\n"
      ]
    },
    {
      "cell_type": "code",
      "execution_count": 3,
      "metadata": {
        "id": "EoL4CfE2wBiJ"
      },
      "outputs": [
        {
          "data": {
            "image/png": "[encoded data removed]",
            "text/plain": [
              "<Figure size 640x480 with 1 Axes>"
            ]
          },
          "metadata": {},
          "output_type": "display_data"
        }
      ],
      "source": [
        "#grafica de la función sigmoidal\n",
        "z = np.arange(-7, 7, 0.1)\n",
        "sigmoidal_z = sigmoid(z)\n",
        "\n",
        "plt.plot(z, sigmoidal_z)\n",
        "plt.yticks([0.0, 0.5, 1.0])\n",
        "plt.axvline(0.0, color='k')\n",
        "ax = plt.gca()\n",
        "ax.yaxis.grid(True)\n",
        "plt.tight_layout()\n",
        "plt.show()\n",
        "plt.show()"
      ]
    },
    {
      "cell_type": "markdown",
      "metadata": {
        "id": "adpayDnqUZ8i"
      },
      "source": [
        "## Función de perdida (Cross-entropy loss)"
      ]
    },
    {
      "cell_type": "code",
      "execution_count": 4,
      "metadata": {
        "id": "SOm7G-mFX5It"
      },
      "outputs": [],
      "source": [
        "'''\n",
        "La función de perdida (loss) nos permite estimar la distancia que hay entre los valores\n",
        "reales de la variable dependiente (y) y los valores predichos(y^). Nuestro\n",
        "principal objetivo es desplazar los valores de w(coeficientes o pesos) y b(intercepto o\n",
        "bias) para ir minimizando iterativamente la distancia entre la variable dependiente y los valores\n",
        "predichos.\n",
        "\n",
        "Esta función para regresión logística es convexa, es decir, solo tienen un mínimo\n",
        "'''\n",
        "\n",
        "def loss_function(y_real, y_pred):\n",
        "  '''\n",
        "  y_real: los valores reales obtenidos en el dataset\n",
        "  y_pred: los valores que se encontraron a partir de la función sigmoide\n",
        "\n",
        "  '''\n",
        "  cross_entropy_loss = -(y_real*np.log(y_pred) + (1-y_real)*np.log(1-y_pred))\n",
        "\n",
        "  return cross_entropy_loss"
      ]
    },
    {
      "cell_type": "markdown",
      "metadata": {
        "id": "M2XSjBAbUaWc"
      },
      "source": [
        "## Gradiente descendiente"
      ]
    },
    {
      "cell_type": "code",
      "execution_count": 5,
      "metadata": {
        "id": "Dp_-mwi-rJgg"
      },
      "outputs": [],
      "source": [
        "'''\n",
        "Una vez encontrada la perdida con la función de coste necesitamos un algoritmo\n",
        "de optimización para actualizar los valores de w y b y minimizar la perdida, para\n",
        "esto usamos el gradiente descendiente. El gradiente de una función de varias\n",
        "variables es un vector que apunta en dirección del mayor incremento en una función.\n",
        "El gradiente descendiente encuentra el gradiente de la función de perdida en el punto\n",
        "actual y se mueve en la dirección opuesta\n",
        "\n",
        "Importante: Tener cuidado con las dimensiones de las matrices a multiplicar,\n",
        "recordar que las columnas de la primera matriz deben ser iguales a las filas de la segunda\n",
        "matriz y el resultado será una matriz con el número de filas de la primera matriz y el\n",
        "número de columnas de la segunda\n",
        "'''\n",
        "def gradiente(y_real, y_pred, X):\n",
        "  n_muestras = X.shape[0]\n",
        "\n",
        "  derivada_parcial_gradiente_w =(1.0/n_muestras)/np.dot(X.T, (y_pred - y_real))\n",
        "\n",
        "  derivada_parcial_gradiente_b = (1.0/n_muestras)*np.sum((y_pred - y_real))\n",
        "\n",
        "  return derivada_parcial_gradiente_w, derivada_parcial_gradiente_b\n"
      ]
    },
    {
      "cell_type": "markdown",
      "metadata": {
        "id": "hiGKuaJFwG99"
      },
      "source": [
        "## Juntando todo"
      ]
    },
    {
      "cell_type": "code",
      "execution_count": 6,
      "metadata": {
        "id": "1Eb_YUXcwJxd"
      },
      "outputs": [],
      "source": [
        "import pandas as pd\n",
        "import seaborn as sns\n",
        "from sklearn.preprocessing import LabelEncoder\n",
        "from sklearn.model_selection import  train_test_split"
      ]
    },
    {
      "cell_type": "code",
      "execution_count": 7,
      "metadata": {
        "id": "MJbBuFxeoGgm"
      },
      "outputs": [],
      "source": [
        "'''\n",
        "En la práctica no se calcula gradiente por gradiente, sino que se utilizan\n",
        "batchs, los batchs son subconjuntos de los datos de m número de muestras.\n",
        "\n",
        "Epochs o epocas es el numero de iteraciones que se realizan sobre el dataset.\n",
        "\n",
        "Leraning rate o taza de aprendizaje hace referencia al paso con el que se actualizan\n",
        "los pesos y el bias, por lo general va de 0 a 1 y se cambia con potencias de 10\n",
        "'''\n",
        "\n",
        "def train(X, y, batch_size, epochs, learning_rate):\n",
        "\n",
        "  n_muestras, n_features = X.shape\n",
        "\n",
        "  #1. Inicializar los pesos, en este caso los inicializamos en cero al igual que el bias\n",
        "  w = np.zeros((n_features, 1))\n",
        "  b = 0\n",
        "\n",
        "  #2. Reshape de la entrada, para ajustarla y multiplicarla despues\n",
        "  y = y.reshape(n_muestras,1)\n",
        "\n",
        "\n",
        "  #3. perdidas\n",
        "  losses = []\n",
        "\n",
        "  #4. Comenzamos la iteracion\n",
        "  for epoch in range(epochs):\n",
        "    for i in range((n_muestras-1)//batch_size + 1): #Para que el batch no abarque mas allá del número de datos y genere un error\n",
        "\n",
        "      #Definimos el conjunto de datos donde se realizara el calculo por el batch\n",
        "      inicio = i*batch_size\n",
        "      fin = inicio+batch_size\n",
        "\n",
        "      x_batch = X[inicio:fin]\n",
        "      y_batch = y[inicio:fin]\n",
        "\n",
        "      #Calculamos la función sigmoide sobre el batch\n",
        "      y_pred = sigmoid(y_batch)\n",
        "\n",
        "      #Calculamos la función de loss sobre el batch\n",
        "      loss = loss_function(y_real=y_batch, y_pred=y_pred)\n",
        "      losses.append(loss)\n",
        "\n",
        "      #Calculamos los gradientes\n",
        "      grad_w, grad_b = gradiente(y_real=y_batch, y_pred=y_pred, X=x_batch)\n",
        "\n",
        "      #actualizamos los pesos con el learnning rate\n",
        "      w -= learning_rate*grad_w\n",
        "      b -= learning_rate*grad_b\n",
        "\n",
        "  return w, b, losses"
      ]
    },
    {
      "cell_type": "code",
      "execution_count": 8,
      "metadata": {
        "id": "8NipNd1guQZy"
      },
      "outputs": [],
      "source": [
        "def predict(X, w, b):\n",
        "  '''\n",
        "  X: Matriz con las diferentes muestras a clasificar\n",
        "  w: el vector de pesos resultante del entrenamiento\n",
        "  b: el valor de bias resultante del entrenamiento\n",
        "  '''\n",
        "\n",
        "  # calculamos las predicciones con los pesos y el bias encontrado usando la\n",
        "  # función sigmoide\n",
        "  y_pred = sigmoid(np.dot(X, w) + b)\n",
        "\n",
        "  #\n",
        "  pred_class = []\n",
        "\n",
        "  #definimos el umbral, para este caso los valores mayores a 0.5 se clasifican\n",
        "  # en la clase 1 y los menores o iguales se clasifican en la clase 0\n",
        "  for pred in y_pred:\n",
        "    if pred > 0.5:\n",
        "      pred_class.append(1)\n",
        "    else:\n",
        "      pred_class.append(0)\n",
        "\n",
        "  return np.array(pred_class)"
      ]
    },
    {
      "cell_type": "code",
      "execution_count": 9,
      "metadata": {
        "id": "jogWEKyA15mV"
      },
      "outputs": [],
      "source": [
        "'''\n",
        "Función simple para observar el comportamiento del modelo, siemplemente\n",
        "contamos las predicciones correctas y las dividimos sobre el número de muestras\n",
        "'''\n",
        "def accuracy(y_real, y_pred):\n",
        "    accuracy = np.sum(y_real == y_pred) / len(y_real)\n",
        "    return accuracy"
      ]
    },
    {
      "cell_type": "markdown",
      "metadata": {
        "id": "fLOR4zgO4gCU"
      },
      "source": [
        "##Prueba con dataset iris\n",
        "Objetivo:Clasificar la especie de planta de acuerdo a las caracteristicas de\n",
        "sus pétalos y sépalos.\n",
        "\n",
        "descripción del dataset:\n",
        "* sepal_length: longitud del sépalo de la flor\n",
        "* sepal_width: anchura del sépalo de la flor\n",
        "* petal_length: longitud del petalo de la flor\n",
        "* petal_width: anchura del petalo de la flor\n",
        "* species: Especie a la que pertence la flor"
      ]
    },
    {
      "cell_type": "code",
      "execution_count": 10,
      "metadata": {
        "id": "lSmtgr4rwOIa"
      },
      "outputs": [],
      "source": [
        "df = sns.load_dataset('iris')"
      ]
    },
    {
      "cell_type": "code",
      "execution_count": 11,
      "metadata": {
        "id": "gWXXSyWgwPKM"
      },
      "outputs": [
        {
          "name": "stdout",
          "output_type": "stream",
          "text": [
            "<class 'pandas.core.frame.DataFrame'>\n",
            "Index: 100 entries, 50 to 149\n",
            "Data columns (total 5 columns):\n",
            " #   Column        Non-Null Count  Dtype  \n",
            "---  ------        --------------  -----  \n",
            " 0   sepal_length  100 non-null    float64\n",
            " 1   sepal_width   100 non-null    float64\n",
            " 2   petal_length  100 non-null    float64\n",
            " 3   petal_width   100 non-null    float64\n",
            " 4   species       100 non-null    object \n",
            "dtypes: float64(4), object(1)\n",
            "memory usage: 4.7+ KB\n"
          ]
        }
      ],
      "source": [
        "#Como nuestro expermiento por ahora solo funciona para clasificación binaria\n",
        "# eliminamos una de las clases\n",
        "new_df = df.loc[df['species'] != 'setosa']\n",
        "new_df.info()"
      ]
    },
    {
      "cell_type": "code",
      "execution_count": 12,
      "metadata": {
        "id": "LdVRU3NdQaxz"
      },
      "outputs": [
        {
          "data": {
            "text/html": [
              "<div>\n",
              "<style scoped>\n",
              "    .dataframe tbody tr th:only-of-type {\n",
              "        vertical-align: middle;\n",
              "    }\n",
              "\n",
              "    .dataframe tbody tr th {\n",
              "        vertical-align: top;\n",
              "    }\n",
              "\n",
              "    .dataframe thead th {\n",
              "        text-align: right;\n",
              "    }\n",
              "</style>\n",
              "<table border=\"1\" class=\"dataframe\">\n",
              "  <thead>\n",
              "    <tr style=\"text-align: right;\">\n",
              "      <th></th>\n",
              "      <th>sepal_length</th>\n",
              "      <th>sepal_width</th>\n",
              "      <th>petal_length</th>\n",
              "      <th>petal_width</th>\n",
              "      <th>species</th>\n",
              "    </tr>\n",
              "  </thead>\n",
              "  <tbody>\n",
              "    <tr>\n",
              "      <th>50</th>\n",
              "      <td>7.0</td>\n",
              "      <td>3.2</td>\n",
              "      <td>4.7</td>\n",
              "      <td>1.4</td>\n",
              "      <td>versicolor</td>\n",
              "    </tr>\n",
              "    <tr>\n",
              "      <th>51</th>\n",
              "      <td>6.4</td>\n",
              "      <td>3.2</td>\n",
              "      <td>4.5</td>\n",
              "      <td>1.5</td>\n",
              "      <td>versicolor</td>\n",
              "    </tr>\n",
              "    <tr>\n",
              "      <th>52</th>\n",
              "      <td>6.9</td>\n",
              "      <td>3.1</td>\n",
              "      <td>4.9</td>\n",
              "      <td>1.5</td>\n",
              "      <td>versicolor</td>\n",
              "    </tr>\n",
              "    <tr>\n",
              "      <th>53</th>\n",
              "      <td>5.5</td>\n",
              "      <td>2.3</td>\n",
              "      <td>4.0</td>\n",
              "      <td>1.3</td>\n",
              "      <td>versicolor</td>\n",
              "    </tr>\n",
              "    <tr>\n",
              "      <th>54</th>\n",
              "      <td>6.5</td>\n",
              "      <td>2.8</td>\n",
              "      <td>4.6</td>\n",
              "      <td>1.5</td>\n",
              "      <td>versicolor</td>\n",
              "    </tr>\n",
              "  </tbody>\n",
              "</table>\n",
              "</div>"
            ],
            "text/plain": [
              "    sepal_length  sepal_width  petal_length  petal_width     species\n",
              "50           7.0          3.2           4.7          1.4  versicolor\n",
              "51           6.4          3.2           4.5          1.5  versicolor\n",
              "52           6.9          3.1           4.9          1.5  versicolor\n",
              "53           5.5          2.3           4.0          1.3  versicolor\n",
              "54           6.5          2.8           4.6          1.5  versicolor"
            ]
          },
          "execution_count": 12,
          "metadata": {},
          "output_type": "execute_result"
        }
      ],
      "source": [
        "new_df.head()"
      ]
    },
    {
      "cell_type": "code",
      "execution_count": 13,
      "metadata": {
        "id": "5F-GQPJzI8xf"
      },
      "outputs": [
        {
          "data": {
            "text/plain": [
              "<Axes: xlabel='sepal_length', ylabel='sepal_width'>"
            ]
          },
          "execution_count": 13,
          "metadata": {},
          "output_type": "execute_result"
        },
        {
          "data": {
            "image/png": "[encoded data removed]",
            "text/plain": [
              "<Figure size 640x480 with 1 Axes>"
            ]
          },
          "metadata": {},
          "output_type": "display_data"
        }
      ],
      "source": [
        "#Se puede obersrvar que la diferencia entre las dos clases es complicada\n",
        "sns.scatterplot(x='sepal_length', y='sepal_width', data=new_df, hue='species')"
      ]
    },
    {
      "cell_type": "code",
      "execution_count": 14,
      "metadata": {
        "id": "n8YLe1nVPXI6"
      },
      "outputs": [],
      "source": [
        "#separamos las variables independientes de la dependiente(target)\n",
        "X = new_df.drop('species', inplace=False, axis=1)\n",
        "\n",
        "y = new_df['species']"
      ]
    },
    {
      "cell_type": "code",
      "execution_count": 15,
      "metadata": {
        "id": "Jc1UdHAQQKB8"
      },
      "outputs": [],
      "source": [
        "# codificamos la variable independiente con label encoder para manejar números\n",
        "# en lugar de variables categoricas númericas\n",
        "le = LabelEncoder()\n",
        "y = le.fit_transform(y)\n"
      ]
    },
    {
      "cell_type": "code",
      "execution_count": 16,
      "metadata": {
        "id": "h2RMkKHoQtV-"
      },
      "outputs": [],
      "source": [
        "#Creamos los conjuntos de prueba y test\n",
        "X_train, X_test, y_train, y_test = train_test_split(X, y, test_size=0.20, random_state=2)"
      ]
    },
    {
      "cell_type": "code",
      "execution_count": 17,
      "metadata": {
        "id": "t0MQ48RhtuLD"
      },
      "outputs": [],
      "source": [
        "x_columns_names = X.columns"
      ]
    },
    {
      "cell_type": "code",
      "execution_count": 18,
      "metadata": {
        "id": "2l_BqqGVtrqy"
      },
      "outputs": [],
      "source": [
        "#Estandarizamos los datos\n",
        "from sklearn.preprocessing import StandardScaler\n",
        "sc = StandardScaler()\n",
        "X_train = sc.fit_transform(X_train.values)\n",
        "X_test = sc.transform(X_test.values)"
      ]
    },
    {
      "cell_type": "code",
      "execution_count": 19,
      "metadata": {
        "id": "pspXQW7-t68a"
      },
      "outputs": [],
      "source": [
        "X_train = pd.DataFrame(data=X_train, columns=x_columns_names)\n",
        "X_test = pd.DataFrame(data=X_test, columns=x_columns_names)"
      ]
    },
    {
      "cell_type": "code",
      "execution_count": 20,
      "metadata": {
        "id": "u-G6uvpwvLBQ"
      },
      "outputs": [],
      "source": [
        "#Obtenemos el vector de pesos, el bias y las periddas\n",
        "w, b, losses = train(X_train, y_train, 3, 20, 0.01)"
      ]
    },
    {
      "cell_type": "code",
      "execution_count": 21,
      "metadata": {
        "id": "s8t0ihyIysmo"
      },
      "outputs": [],
      "source": [
        "#predecimos los datos sobre el entrenamiento\n",
        "y_pred = predict(X_train, w, b)"
      ]
    },
    {
      "cell_type": "code",
      "execution_count": 22,
      "metadata": {
        "id": "7V9sW7AV2bXZ"
      },
      "outputs": [
        {
          "name": "stdout",
          "output_type": "stream",
          "text": [
            "Accuracy para entrenamiento: 0.825\n"
          ]
        }
      ],
      "source": [
        "#vemos como se comporto el modelo\n",
        "print(f'Accuracy para entrenamiento: {accuracy(y_train, y_pred)}')"
      ]
    },
    {
      "cell_type": "code",
      "execution_count": 23,
      "metadata": {
        "id": "rE9RH-eO5wvL"
      },
      "outputs": [],
      "source": [
        "#predecimos los datos sobre el test\n",
        "y_pred_test = predict(X_test, w, b)"
      ]
    },
    {
      "cell_type": "code",
      "execution_count": 24,
      "metadata": {
        "id": "0yyth_Le5Z9z"
      },
      "outputs": [
        {
          "name": "stdout",
          "output_type": "stream",
          "text": [
            "Accuracy para prueba: 0.6\n"
          ]
        }
      ],
      "source": [
        "print(f'Accuracy para prueba: {accuracy(y_test, y_pred_test)}')"
      ]
    },
    {
      "cell_type": "code",
      "execution_count": 25,
      "metadata": {
        "id": "8gsqlxZmBcsC"
      },
      "outputs": [],
      "source": [
        "#Experimentar variando el numero de epocas, el tamaño del batch y el learning_rate\n",
        "\n",
        "#Que se tiene que modificar para que sea realmente estocastico?"
      ]
    },
    {
      "cell_type": "markdown",
      "metadata": {
        "id": "pQ1sXR-mVSH9"
      },
      "source": [
        "# Regresión Logistica usnado Sklearn\n",
        "\n",
        "Documentación:\n",
        "* LogisticRegression: https://scikit-learn.org/stable/modules/generated/sklearn.linear_model.LogisticRegression.html\n",
        "* SGDClassifier: https://scikit-learn.org/stable/modules/generated/sklearn.linear_model.SGDClassifier.html"
      ]
    },
    {
      "cell_type": "markdown",
      "metadata": {
        "id": "gOXcNkd1Rhyp"
      },
      "source": [
        "Retomemos el ejercicio del laboratorio dirigido I."
      ]
    },
    {
      "cell_type": "code",
      "execution_count": 26,
      "metadata": {
        "id": "qyZSXCotABKp"
      },
      "outputs": [],
      "source": [
        "## Si la ejecución de la importación les genera error reinicien el entorno de ejecución\n",
        "## e inicie desde esta celda\n",
        "from sklearn.feature_extraction.text import CountVectorizer\n",
        "from sklearn.model_selection import train_test_split\n",
        "from sklearn.metrics import classification_report, confusion_matrix, accuracy_score, ConfusionMatrixDisplay\n",
        "import matplotlib.pyplot as plt\n",
        "import nltk\n",
        "\n",
        "from nltk.corpus import stopwords\n",
        "import re\n",
        "import pandas as pd"
      ]
    },
    {
      "cell_type": "code",
      "execution_count": 27,
      "metadata": {
        "id": "dYNhoTG3ZpdS"
      },
      "outputs": [
        {
          "name": "stderr",
          "output_type": "stream",
          "text": [
            "[nltk_data] Downloading package stopwords to\n",
            "[nltk_data]     C:\\Users\\pms_l\\AppData\\Roaming\\nltk_data...\n",
            "[nltk_data]   Package stopwords is already up-to-date!\n"
          ]
        },
        {
          "data": {
            "text/plain": [
              "True"
            ]
          },
          "execution_count": 27,
          "metadata": {},
          "output_type": "execute_result"
        }
      ],
      "source": [
        "stemmer = nltk.stem.SnowballStemmer('spanish') # Vamos a utlizar el Snowball Stemmer para realizar stemming (nos permite llevar las palabras a una forma estandar).\n",
        "nltk.download('stopwords') # Lista de palabras de parada en español."
      ]
    },
    {
      "cell_type": "code",
      "execution_count": 28,
      "metadata": {
        "id": "o_c9QQDWTGD0"
      },
      "outputs": [],
      "source": [
        "df = pd.read_csv('Tutorial-NLP_Analisis_de_Sentimientos.csv', sep=',', header=0, index_col= None, engine='python',\n",
        "                 usecols=['film_name','gender','review_title','review_text','polaridad'])"
      ]
    },
    {
      "cell_type": "code",
      "execution_count": 29,
      "metadata": {
        "id": "wojQz-rETJTZ"
      },
      "outputs": [],
      "source": [
        "df['texto'] = df['review_title'] + ' ' + df['review_text']\n",
        "def processing_text(texto):\n",
        "    # Paso 1: Remover con un expresión regular carateres especiales (no palabras).\n",
        "    processed_feature = re.sub(r'\\W', ' ', str(texto))\n",
        "    # Paso 2: Remover ocurrencias de caracteres individuales\n",
        "    processed_feature= re.sub(r'\\s+[a-zA-Z]\\s+', ' ', processed_feature)\n",
        "    processed_feature = re.sub(r'\\^[a-zA-Z]\\s+', ' ', processed_feature)\n",
        "    # Paso 3: Remover números (Ocurrencias muy esporádicas en nuestro dataset)\n",
        "    processed_feature = re.sub(r'[0-9]+', ' ', processed_feature)\n",
        "    # Paso 4: Simplificar espacios concecutivos a un único espacio entre palabras\n",
        "    processed_feature = re.sub(' +', ' ', processed_feature)\n",
        "    # Paso 5: Pasar todo el texto a minúsculas\n",
        "    processed_feature = processed_feature.lower()\n",
        "    # Paso 6: Aplicar stemming. Es una forma de enviar las palabras a una raiz común simplificando de esta manera el vocabulario.\n",
        "    #         por ejemplo las palabras (absurdo, absurdos) que estan en el review 2895 seran llevados a la raiz común \"absurd\"\n",
        "    #         y de esta forma se evita tener dos palabras diferentes con el mismo significado en nuestro vocabulario.\n",
        "    processed_feature = \" \".join([stemmer.stem(i) for i in processed_feature.split()])\n",
        "\n",
        "\n",
        "    return processed_feature"
      ]
    },
    {
      "cell_type": "code",
      "execution_count": 30,
      "metadata": {
        "id": "u2b4wxajTQE3"
      },
      "outputs": [],
      "source": [
        "texto_para_procesar = df['texto'].values\n",
        "labels = df['polaridad'].values\n",
        "\n",
        "# El texto ya procesado de cada ejemplo en nuestro dataset lo almacenaremos en la variable \"texto_procesado\"\n",
        "texto_procesado = []\n",
        "for sentence in range(0, len(texto_para_procesar)):\n",
        "    procesado = processing_text(texto_para_procesar[sentence])\n",
        "    texto_procesado.append(procesado)"
      ]
    },
    {
      "cell_type": "code",
      "execution_count": 31,
      "metadata": {
        "id": "RhE5KIGZTY5o"
      },
      "outputs": [
        {
          "name": "stdout",
          "output_type": "stream",
          "text": [
            "Sin procesar:\n",
            "No pude acabar de verla Me aburrí.  No le vi la gracia a Ocho Apellidos Vascos, mucho menos se la voy a ver a este desgraciado efecto secundario.  El caso es que empecé a verla con ganas, a ver si por lo menos me reía de algún chiste, pero, o no los distinguí, o no existen en el texto o ando espesito yo.  El guión es un absurdo sin gracia, porque hay absurdos graciosos, pero no este, y si no hay guión no hay peli por mucho que tengamos a Karra y a la Sardá.  Me los imagino a los dos compartiendo unas kokotxas con xamfaina y haciéndose confidencias acerca de lo que tiene que hacer uno para que le quede una pensión decente.En realidad esta es la crítica de las tres cuartas partes de la película, el final me cogió haciéndome el colacao para irme a la cama.\n",
            "---------------------------------\n",
            "Procesado:\n",
            "no pud acab de verl me aburr no le vi la graci ocho apell vasc much men se la voy ver este desgraci efect secundari el cas es que empec verl con gan ver si por lo men me rei de algun chist per no los distingu no exist en el text ando espesit yo el guion es un absurd sin graci porqu hay absurd gracios per no este si no hay guion no hay peli por much que teng karr a la sard me los imagin los dos compart unas kokotx con xamfain hac confident acerc de lo que tien que hac uno par que le qued una pension decent en realid esta es la critic de las tres cuart part de la pelicul el final me cog hac el colaca par irme la cam\n"
          ]
        }
      ],
      "source": [
        "print(\"Sin procesar:\")\n",
        "print(texto_para_procesar[2895])\n",
        "print(\"---------------------------------\")\n",
        "print(\"Procesado:\")\n",
        "print(texto_procesado[2895])"
      ]
    },
    {
      "cell_type": "code",
      "execution_count": 32,
      "metadata": {
        "id": "rZ1A1RZxTd5U"
      },
      "outputs": [],
      "source": [
        "# Bolsa de palabras\n",
        "vectorizer = CountVectorizer(max_features=2500, stop_words=stopwords.words('spanish'))\n",
        "# max_features representa el tamaño del vocabulario. Vamos a permitir 2500 palabras.\n",
        "# stop_words le indicamos las palabras de parada para que las ignore en el vocabulario.\n",
        "\n",
        "# Ahora le solicitamos utilizando nuestro conjunto de datos que construya el vocabulario y tambien transforme nuestro texto\n",
        "texto_features = vectorizer.fit_transform(texto_procesado).toarray()"
      ]
    },
    {
      "cell_type": "code",
      "execution_count": 33,
      "metadata": {
        "id": "1zQ7dgJJTih-"
      },
      "outputs": [
        {
          "data": {
            "text/plain": [
              "array(['abaj', 'abandon', 'abarc', 'aberr', 'abiert', 'abord', 'abre',\n",
              "       'absolut', 'absurd', 'abuel'], dtype=object)"
            ]
          },
          "execution_count": 33,
          "metadata": {},
          "output_type": "execute_result"
        }
      ],
      "source": [
        "vectorizer.get_feature_names_out()[0:10]"
      ]
    },
    {
      "cell_type": "code",
      "execution_count": 34,
      "metadata": {
        "id": "mVP1pNLHTl4r"
      },
      "outputs": [],
      "source": [
        "X_train, X_test, y_train, y_test = train_test_split(texto_features, labels, test_size=0.2, random_state=0)"
      ]
    },
    {
      "cell_type": "markdown",
      "metadata": {
        "id": "IZIiC8Zh7lUd"
      },
      "source": [
        "## Entrenamiento del modelo"
      ]
    },
    {
      "cell_type": "code",
      "execution_count": 35,
      "metadata": {
        "id": "OgcY3C62vcGg"
      },
      "outputs": [],
      "source": [
        "'''\n",
        "Vamos a probar los dos algoritmos de regresión logistica que tiene sklearn:\n",
        "LogisticRegression y SGDClassifier\n",
        "\n",
        "'''\n",
        "from sklearn.linear_model import LogisticRegression, SGDClassifier"
      ]
    },
    {
      "cell_type": "markdown",
      "metadata": {
        "id": "kx2U2fkN7SXp"
      },
      "source": [
        "### SGDClassifier"
      ]
    },
    {
      "cell_type": "code",
      "execution_count": 36,
      "metadata": {
        "id": "WZG17WWmvcwk"
      },
      "outputs": [
        {
          "data": {
            "text/html": [
              "<style>#sk-container-id-1 {color: black;}#sk-container-id-1 pre{padding: 0;}#sk-container-id-1 div.sk-toggleable {background-color: white;}#sk-container-id-1 label.sk-toggleable__label {cursor: pointer;display: block;width: 100%;margin-bottom: 0;padding: 0.3em;box-sizing: border-box;text-align: center;}#sk-container-id-1 label.sk-toggleable__label-arrow:before {content: \"▸\";float: left;margin-right: 0.25em;color: #696969;}#sk-container-id-1 label.sk-toggleable__label-arrow:hover:before {color: black;}#sk-container-id-1 div.sk-estimator:hover label.sk-toggleable__label-arrow:before {color: black;}#sk-container-id-1 div.sk-toggleable__content {max-height: 0;max-width: 0;overflow: hidden;text-align: left;background-color: #f0f8ff;}#sk-container-id-1 div.sk-toggleable__content pre {margin: 0.2em;color: black;border-radius: 0.25em;background-color: #f0f8ff;}#sk-container-id-1 input.sk-toggleable__control:checked~div.sk-toggleable__content {max-height: 200px;max-width: 100%;overflow: auto;}#sk-container-id-1 input.sk-toggleable__control:checked~label.sk-toggleable__label-arrow:before {content: \"▾\";}#sk-container-id-1 div.sk-estimator input.sk-toggleable__control:checked~label.sk-toggleable__label {background-color: #d4ebff;}#sk-container-id-1 div.sk-label input.sk-toggleable__control:checked~label.sk-toggleable__label {background-color: #d4ebff;}#sk-container-id-1 input.sk-hidden--visually {border: 0;clip: rect(1px 1px 1px 1px);clip: rect(1px, 1px, 1px, 1px);height: 1px;margin: -1px;overflow: hidden;padding: 0;position: absolute;width: 1px;}#sk-container-id-1 div.sk-estimator {font-family: monospace;background-color: #f0f8ff;border: 1px dotted black;border-radius: 0.25em;box-sizing: border-box;margin-bottom: 0.5em;}#sk-container-id-1 div.sk-estimator:hover {background-color: #d4ebff;}#sk-container-id-1 div.sk-parallel-item::after {content: \"\";width: 100%;border-bottom: 1px solid gray;flex-grow: 1;}#sk-container-id-1 div.sk-label:hover label.sk-toggleable__label {background-color: #d4ebff;}#sk-container-id-1 div.sk-serial::before {content: \"\";position: absolute;border-left: 1px solid gray;box-sizing: border-box;top: 0;bottom: 0;left: 50%;z-index: 0;}#sk-container-id-1 div.sk-serial {display: flex;flex-direction: column;align-items: center;background-color: white;padding-right: 0.2em;padding-left: 0.2em;position: relative;}#sk-container-id-1 div.sk-item {position: relative;z-index: 1;}#sk-container-id-1 div.sk-parallel {display: flex;align-items: stretch;justify-content: center;background-color: white;position: relative;}#sk-container-id-1 div.sk-item::before, #sk-container-id-1 div.sk-parallel-item::before {content: \"\";position: absolute;border-left: 1px solid gray;box-sizing: border-box;top: 0;bottom: 0;left: 50%;z-index: -1;}#sk-container-id-1 div.sk-parallel-item {display: flex;flex-direction: column;z-index: 1;position: relative;background-color: white;}#sk-container-id-1 div.sk-parallel-item:first-child::after {align-self: flex-end;width: 50%;}#sk-container-id-1 div.sk-parallel-item:last-child::after {align-self: flex-start;width: 50%;}#sk-container-id-1 div.sk-parallel-item:only-child::after {width: 0;}#sk-container-id-1 div.sk-dashed-wrapped {border: 1px dashed gray;margin: 0 0.4em 0.5em 0.4em;box-sizing: border-box;padding-bottom: 0.4em;background-color: white;}#sk-container-id-1 div.sk-label label {font-family: monospace;font-weight: bold;display: inline-block;line-height: 1.2em;}#sk-container-id-1 div.sk-label-container {text-align: center;}#sk-container-id-1 div.sk-container {/* jupyter's `normalize.less` sets `[hidden] { display: none; }` but bootstrap.min.css set `[hidden] { display: none !important; }` so we also need the `!important` here to be able to override the default hidden behavior on the sphinx rendered scikit-learn.org. See: https://github.com/scikit-learn/scikit-learn/issues/21755 */display: inline-block !important;position: relative;}#sk-container-id-1 div.sk-text-repr-fallback {display: none;}</style><div id=\"sk-container-id-1\" class=\"sk-top-container\"><div class=\"sk-text-repr-fallback\"><pre>SGDClassifier(eta0=0.1, learning_rate=&#x27;constant&#x27;, loss=&#x27;log_loss&#x27;)</pre><b>In a Jupyter environment, please rerun this cell to show the HTML representation or trust the notebook. <br />On GitHub, the HTML representation is unable to render, please try loading this page with nbviewer.org.</b></div><div class=\"sk-container\" hidden><div class=\"sk-item\"><div class=\"sk-estimator sk-toggleable\"><input class=\"sk-toggleable__control sk-hidden--visually\" id=\"sk-estimator-id-1\" type=\"checkbox\" checked><label for=\"sk-estimator-id-1\" class=\"sk-toggleable__label sk-toggleable__label-arrow\">SGDClassifier</label><div class=\"sk-toggleable__content\"><pre>SGDClassifier(eta0=0.1, learning_rate=&#x27;constant&#x27;, loss=&#x27;log_loss&#x27;)</pre></div></div></div></div></div>"
            ],
            "text/plain": [
              "SGDClassifier(eta0=0.1, learning_rate='constant', loss='log_loss')"
            ]
          },
          "execution_count": 36,
          "metadata": {},
          "output_type": "execute_result"
        }
      ],
      "source": [
        "logistic_model_SGD = SGDClassifier(loss='log_loss',learning_rate='constant',eta0=0.1 ) # investicar los parámetros en la documentacion y variar el learning_rate\n",
        "logistic_model_SGD.fit(X_train, y_train)\n"
      ]
    },
    {
      "cell_type": "code",
      "execution_count": 37,
      "metadata": {
        "id": "7Ejg2lolwcW4"
      },
      "outputs": [
        {
          "name": "stdout",
          "output_type": "stream",
          "text": [
            "Clases de la variable dependiente: ['negativo' 'positivo']\n",
            "\n",
            "\n",
            "Vectores de coeficientes:\n",
            "[[ 0.57152111  0.06503446  0.2060633  ... -0.51677386 -0.70891166\n",
            "  -0.01902453]]\n"
          ]
        }
      ],
      "source": [
        "\n",
        "print(f'Clases de la variable dependiente: {logistic_model_SGD.classes_}')\n",
        "print('\\n')\n",
        "print('Vectores de coeficientes:')\n",
        "print(logistic_model_SGD.coef_)\n"
      ]
    },
    {
      "cell_type": "code",
      "execution_count": 38,
      "metadata": {
        "id": "x7BVyDLGw60t"
      },
      "outputs": [],
      "source": [
        "y_pred = logistic_model_SGD.predict(X_train)"
      ]
    },
    {
      "cell_type": "code",
      "execution_count": 39,
      "metadata": {
        "id": "P9qR_T5Xxt6q"
      },
      "outputs": [
        {
          "name": "stdout",
          "output_type": "stream",
          "text": [
            "Accuracy entrenamiento: 1.0\n",
            "Matriz de confusión:\n"
          ]
        },
        {
          "data": {
            "image/png": "[encoded data removed]",
            "text/plain": [
              "<Figure size 640x480 with 2 Axes>"
            ]
          },
          "metadata": {},
          "output_type": "display_data"
        }
      ],
      "source": [
        "print(f'Accuracy entrenamiento: {accuracy_score(y_train, y_pred)}')\n",
        "print('Matriz de confusión:')\n",
        "matriz_confusion = confusion_matrix(y_train, y_pred)\n",
        "disp = ConfusionMatrixDisplay(confusion_matrix=matriz_confusion, display_labels=logistic_model_SGD.classes_)\n",
        "disp.plot()\n",
        "plt.show()"
      ]
    },
    {
      "cell_type": "code",
      "execution_count": 40,
      "metadata": {
        "id": "gTs5AvdbxIkz"
      },
      "outputs": [],
      "source": [
        "y_pred_test = logistic_model_SGD.predict(X_test)"
      ]
    },
    {
      "cell_type": "code",
      "execution_count": 41,
      "metadata": {
        "id": "nvo7U8ZIxNAl"
      },
      "outputs": [
        {
          "name": "stdout",
          "output_type": "stream",
          "text": [
            "Accuracy testing: 0.8613728129205922\n",
            "Matriz de confusión:\n"
          ]
        },
        {
          "data": {
            "image/png": "[encoded data removed]",
            "text/plain": [
              "<Figure size 640x480 with 2 Axes>"
            ]
          },
          "metadata": {},
          "output_type": "display_data"
        }
      ],
      "source": [
        "print(f'Accuracy testing: {accuracy_score(y_test, y_pred_test)}')\n",
        "print('Matriz de confusión:')\n",
        "matriz_confusion_test = confusion_matrix(y_test, y_pred_test)\n",
        "disp = ConfusionMatrixDisplay(confusion_matrix=matriz_confusion_test, display_labels=logistic_model_SGD.classes_)\n",
        "disp.plot()\n",
        "plt.show()"
      ]
    },
    {
      "cell_type": "markdown",
      "metadata": {
        "id": "AQf3I_ed7Yiq"
      },
      "source": [
        "### LogisticRegression"
      ]
    },
    {
      "cell_type": "code",
      "execution_count": 42,
      "metadata": {
        "id": "rdBeFNMDvkzT"
      },
      "outputs": [
        {
          "name": "stderr",
          "output_type": "stream",
          "text": [
            "C:\\Users\\pms_l\\AppData\\Roaming\\Python\\Python311\\site-packages\\sklearn\\linear_model\\_logistic.py:460: ConvergenceWarning: lbfgs failed to converge (status=1):\n",
            "STOP: TOTAL NO. of ITERATIONS REACHED LIMIT.\n",
            "\n",
            "Increase the number of iterations (max_iter) or scale the data as shown in:\n",
            "    https://scikit-learn.org/stable/modules/preprocessing.html\n",
            "Please also refer to the documentation for alternative solver options:\n",
            "    https://scikit-learn.org/stable/modules/linear_model.html#logistic-regression\n",
            "  n_iter_i = _check_optimize_result(\n"
          ]
        },
        {
          "data": {
            "text/html": [
              "<style>#sk-container-id-2 {color: black;}#sk-container-id-2 pre{padding: 0;}#sk-container-id-2 div.sk-toggleable {background-color: white;}#sk-container-id-2 label.sk-toggleable__label {cursor: pointer;display: block;width: 100%;margin-bottom: 0;padding: 0.3em;box-sizing: border-box;text-align: center;}#sk-container-id-2 label.sk-toggleable__label-arrow:before {content: \"▸\";float: left;margin-right: 0.25em;color: #696969;}#sk-container-id-2 label.sk-toggleable__label-arrow:hover:before {color: black;}#sk-container-id-2 div.sk-estimator:hover label.sk-toggleable__label-arrow:before {color: black;}#sk-container-id-2 div.sk-toggleable__content {max-height: 0;max-width: 0;overflow: hidden;text-align: left;background-color: #f0f8ff;}#sk-container-id-2 div.sk-toggleable__content pre {margin: 0.2em;color: black;border-radius: 0.25em;background-color: #f0f8ff;}#sk-container-id-2 input.sk-toggleable__control:checked~div.sk-toggleable__content {max-height: 200px;max-width: 100%;overflow: auto;}#sk-container-id-2 input.sk-toggleable__control:checked~label.sk-toggleable__label-arrow:before {content: \"▾\";}#sk-container-id-2 div.sk-estimator input.sk-toggleable__control:checked~label.sk-toggleable__label {background-color: #d4ebff;}#sk-container-id-2 div.sk-label input.sk-toggleable__control:checked~label.sk-toggleable__label {background-color: #d4ebff;}#sk-container-id-2 input.sk-hidden--visually {border: 0;clip: rect(1px 1px 1px 1px);clip: rect(1px, 1px, 1px, 1px);height: 1px;margin: -1px;overflow: hidden;padding: 0;position: absolute;width: 1px;}#sk-container-id-2 div.sk-estimator {font-family: monospace;background-color: #f0f8ff;border: 1px dotted black;border-radius: 0.25em;box-sizing: border-box;margin-bottom: 0.5em;}#sk-container-id-2 div.sk-estimator:hover {background-color: #d4ebff;}#sk-container-id-2 div.sk-parallel-item::after {content: \"\";width: 100%;border-bottom: 1px solid gray;flex-grow: 1;}#sk-container-id-2 div.sk-label:hover label.sk-toggleable__label {background-color: #d4ebff;}#sk-container-id-2 div.sk-serial::before {content: \"\";position: absolute;border-left: 1px solid gray;box-sizing: border-box;top: 0;bottom: 0;left: 50%;z-index: 0;}#sk-container-id-2 div.sk-serial {display: flex;flex-direction: column;align-items: center;background-color: white;padding-right: 0.2em;padding-left: 0.2em;position: relative;}#sk-container-id-2 div.sk-item {position: relative;z-index: 1;}#sk-container-id-2 div.sk-parallel {display: flex;align-items: stretch;justify-content: center;background-color: white;position: relative;}#sk-container-id-2 div.sk-item::before, #sk-container-id-2 div.sk-parallel-item::before {content: \"\";position: absolute;border-left: 1px solid gray;box-sizing: border-box;top: 0;bottom: 0;left: 50%;z-index: -1;}#sk-container-id-2 div.sk-parallel-item {display: flex;flex-direction: column;z-index: 1;position: relative;background-color: white;}#sk-container-id-2 div.sk-parallel-item:first-child::after {align-self: flex-end;width: 50%;}#sk-container-id-2 div.sk-parallel-item:last-child::after {align-self: flex-start;width: 50%;}#sk-container-id-2 div.sk-parallel-item:only-child::after {width: 0;}#sk-container-id-2 div.sk-dashed-wrapped {border: 1px dashed gray;margin: 0 0.4em 0.5em 0.4em;box-sizing: border-box;padding-bottom: 0.4em;background-color: white;}#sk-container-id-2 div.sk-label label {font-family: monospace;font-weight: bold;display: inline-block;line-height: 1.2em;}#sk-container-id-2 div.sk-label-container {text-align: center;}#sk-container-id-2 div.sk-container {/* jupyter's `normalize.less` sets `[hidden] { display: none; }` but bootstrap.min.css set `[hidden] { display: none !important; }` so we also need the `!important` here to be able to override the default hidden behavior on the sphinx rendered scikit-learn.org. See: https://github.com/scikit-learn/scikit-learn/issues/21755 */display: inline-block !important;position: relative;}#sk-container-id-2 div.sk-text-repr-fallback {display: none;}</style><div id=\"sk-container-id-2\" class=\"sk-top-container\"><div class=\"sk-text-repr-fallback\"><pre>LogisticRegression()</pre><b>In a Jupyter environment, please rerun this cell to show the HTML representation or trust the notebook. <br />On GitHub, the HTML representation is unable to render, please try loading this page with nbviewer.org.</b></div><div class=\"sk-container\" hidden><div class=\"sk-item\"><div class=\"sk-estimator sk-toggleable\"><input class=\"sk-toggleable__control sk-hidden--visually\" id=\"sk-estimator-id-2\" type=\"checkbox\" checked><label for=\"sk-estimator-id-2\" class=\"sk-toggleable__label sk-toggleable__label-arrow\">LogisticRegression</label><div class=\"sk-toggleable__content\"><pre>LogisticRegression()</pre></div></div></div></div></div>"
            ],
            "text/plain": [
              "LogisticRegression()"
            ]
          },
          "execution_count": 42,
          "metadata": {},
          "output_type": "execute_result"
        }
      ],
      "source": [
        "## El modelo de LogisticRegression en sklearn no ultiliza SGD!\n",
        "## Utiliza otro método denominado SAG solver (Stochastic Average Gradient)\n",
        "\n",
        "logistic_model = LogisticRegression()\n",
        "\n",
        "logistic_model.fit(X_train, y_train)"
      ]
    },
    {
      "cell_type": "code",
      "execution_count": 43,
      "metadata": {
        "id": "sk5eGjT6wT9_"
      },
      "outputs": [
        {
          "name": "stdout",
          "output_type": "stream",
          "text": [
            "Clases de la variable dependiente: ['negativo' 'positivo']\n",
            "\n",
            "\n",
            "Vectores de coeficientes:\n",
            "[[ 0.27114516  0.09377319  0.09841478 ... -0.32212206 -0.29271145\n",
            "   0.02276942]]\n"
          ]
        }
      ],
      "source": [
        "print(f'Clases de la variable dependiente: {logistic_model.classes_}')\n",
        "print('\\n')\n",
        "print('Vectores de coeficientes:')\n",
        "print(logistic_model.coef_)"
      ]
    },
    {
      "cell_type": "code",
      "execution_count": 44,
      "metadata": {
        "id": "UQyuTnOMwxrf"
      },
      "outputs": [],
      "source": [
        "y_pred_2 = logistic_model.predict(X_train)"
      ]
    },
    {
      "cell_type": "code",
      "execution_count": 45,
      "metadata": {
        "id": "tCsHC0F4z5iA"
      },
      "outputs": [
        {
          "name": "stdout",
          "output_type": "stream",
          "text": [
            "Accuracy entrenamiento: 0.998653651969034\n",
            "Matriz de confusión:\n"
          ]
        },
        {
          "data": {
            "image/png": "[encoded data removed]",
            "text/plain": [
              "<Figure size 640x480 with 2 Axes>"
            ]
          },
          "metadata": {},
          "output_type": "display_data"
        }
      ],
      "source": [
        "print(f'Accuracy entrenamiento: {accuracy_score(y_train, y_pred_2)}')\n",
        "print('Matriz de confusión:')\n",
        "matriz_confusion_2 = confusion_matrix(y_train, y_pred_2)\n",
        "disp = ConfusionMatrixDisplay(confusion_matrix=matriz_confusion_2, display_labels=logistic_model.classes_)\n",
        "disp.plot()\n",
        "plt.show()"
      ]
    },
    {
      "cell_type": "code",
      "execution_count": 46,
      "metadata": {
        "id": "5KzIST0IxPxS"
      },
      "outputs": [],
      "source": [
        "y_pred_test_2 = logistic_model.predict(X_test)"
      ]
    },
    {
      "cell_type": "code",
      "execution_count": 47,
      "metadata": {
        "id": "rEyZO_w40UiA"
      },
      "outputs": [
        {
          "name": "stdout",
          "output_type": "stream",
          "text": [
            "Accuracy testing: 0.8748317631224765\n",
            "Matriz de confusión:\n"
          ]
        },
        {
          "data": {
            "image/png": "[encoded data removed]",
            "text/plain": [
              "<Figure size 640x480 with 2 Axes>"
            ]
          },
          "metadata": {},
          "output_type": "display_data"
        }
      ],
      "source": [
        "print(f'Accuracy testing: {accuracy_score(y_test, y_pred_test_2)}')\n",
        "print('Matriz de confusión:')\n",
        "matriz_confusion_test_2 = confusion_matrix(y_test, y_pred_test_2)\n",
        "disp = ConfusionMatrixDisplay(confusion_matrix=matriz_confusion_test_2, display_labels=logistic_model.classes_)\n",
        "disp.plot()\n",
        "plt.show()"
      ]
    }
  ],
  "metadata": {
    "colab": {
      "collapsed_sections": [
        "KolWC8COTmdt",
        "00WGFBhAUX4g",
        "adpayDnqUZ8i",
        "M2XSjBAbUaWc",
        "hiGKuaJFwG99",
        "fLOR4zgO4gCU",
        "pQ1sXR-mVSH9",
        "pjH7e2VC097M",
        "XKkIQwdAidNT",
        "sIZ1_TFujd-A",
        "IZIiC8Zh7lUd",
        "kx2U2fkN7SXp",
        "AQf3I_ed7Yiq"
      ],
      "provenance": []
    },
    "gpuClass": "standard",
    "kernelspec": {
      "display_name": "Python 3",
      "language": "python",
      "name": "python3"
    },
    "language_info": {
      "codemirror_mode": {
        "name": "ipython",
        "version": 3
      },
      "file_extension": ".py",
      "mimetype": "text/x-python",
      "name": "python",
      "nbconvert_exporter": "python",
      "pygments_lexer": "ipython3",
      "version": "3.11.4"
    }
  },
  "nbformat": 4,
  "nbformat_minor": 0
}
